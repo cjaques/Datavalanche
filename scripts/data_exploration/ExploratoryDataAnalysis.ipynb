{
 "cells": [
  {
   "cell_type": "markdown",
   "metadata": {},
   "source": [
    "# Imports"
   ]
  },
  {
   "cell_type": "code",
   "execution_count": 1,
   "metadata": {
    "collapsed": true
   },
   "outputs": [],
   "source": [
    "import numpy as np\n",
    "import pandas as pd\n",
    "import math\n",
    "import matplotlib.pyplot as plt\n",
    "%matplotlib inline"
   ]
  },
  {
   "cell_type": "markdown",
   "metadata": {},
   "source": [
    "# Get data"
   ]
  },
  {
   "cell_type": "code",
   "execution_count": 2,
   "metadata": {
    "collapsed": false
   },
   "outputs": [
    {
     "data": {
      "text/html": [
       "<div>\n",
       "<table border=\"1\" class=\"dataframe\">\n",
       "  <thead>\n",
       "    <tr style=\"text-align: right;\">\n",
       "      <th></th>\n",
       "      <th>avalanche.id</th>\n",
       "      <th>date</th>\n",
       "      <th>date.quality</th>\n",
       "      <th>hydrological.year</th>\n",
       "      <th>canton</th>\n",
       "      <th>local.name</th>\n",
       "      <th>start.zone.coordinates.x</th>\n",
       "      <th>start.zone.coordinates.y</th>\n",
       "      <th>coordinates.quality</th>\n",
       "      <th>start.zone.elevation</th>\n",
       "      <th>start.zone.slope.aspect</th>\n",
       "      <th>start.zone.inclination</th>\n",
       "      <th>forecasted.dangerlevel</th>\n",
       "      <th>number.dead</th>\n",
       "      <th>number.caught</th>\n",
       "      <th>number.fully.buried</th>\n",
       "      <th>activity</th>\n",
       "    </tr>\n",
       "  </thead>\n",
       "  <tbody>\n",
       "    <tr>\n",
       "      <th>0</th>\n",
       "      <td>13007</td>\n",
       "      <td>1995-12-25</td>\n",
       "      <td>0</td>\n",
       "      <td>1995/96</td>\n",
       "      <td>VS</td>\n",
       "      <td>Chetseron / Vallon de l`Ertentse</td>\n",
       "      <td>602380</td>\n",
       "      <td>131230</td>\n",
       "      <td>25</td>\n",
       "      <td>2060</td>\n",
       "      <td>NW</td>\n",
       "      <td>NaN</td>\n",
       "      <td>NaN</td>\n",
       "      <td>2</td>\n",
       "      <td>2</td>\n",
       "      <td>0</td>\n",
       "      <td>offpiste</td>\n",
       "    </tr>\n",
       "    <tr>\n",
       "      <th>1</th>\n",
       "      <td>13014</td>\n",
       "      <td>1995-12-28</td>\n",
       "      <td>0</td>\n",
       "      <td>1995/96</td>\n",
       "      <td>VS</td>\n",
       "      <td>Verbier / Les Ruinettes</td>\n",
       "      <td>586070</td>\n",
       "      <td>104160</td>\n",
       "      <td>25</td>\n",
       "      <td>2340</td>\n",
       "      <td>NNE</td>\n",
       "      <td>39.0</td>\n",
       "      <td>NaN</td>\n",
       "      <td>1</td>\n",
       "      <td>1</td>\n",
       "      <td>1</td>\n",
       "      <td>offpiste</td>\n",
       "    </tr>\n",
       "    <tr>\n",
       "      <th>2</th>\n",
       "      <td>13028</td>\n",
       "      <td>1996-01-14</td>\n",
       "      <td>0</td>\n",
       "      <td>1995/96</td>\n",
       "      <td>GR</td>\n",
       "      <td>Chilchalphorn</td>\n",
       "      <td>731720</td>\n",
       "      <td>155110</td>\n",
       "      <td>25</td>\n",
       "      <td>2960</td>\n",
       "      <td>E</td>\n",
       "      <td>35.0</td>\n",
       "      <td>NaN</td>\n",
       "      <td>1</td>\n",
       "      <td>4</td>\n",
       "      <td>2</td>\n",
       "      <td>tour</td>\n",
       "    </tr>\n",
       "    <tr>\n",
       "      <th>3</th>\n",
       "      <td>13038</td>\n",
       "      <td>1996-02-14</td>\n",
       "      <td>0</td>\n",
       "      <td>1995/96</td>\n",
       "      <td>VD</td>\n",
       "      <td>La Lécherette</td>\n",
       "      <td>575300</td>\n",
       "      <td>141010</td>\n",
       "      <td>25</td>\n",
       "      <td>1580</td>\n",
       "      <td>NNW</td>\n",
       "      <td>42.0</td>\n",
       "      <td>NaN</td>\n",
       "      <td>1</td>\n",
       "      <td>2</td>\n",
       "      <td>1</td>\n",
       "      <td>offpiste</td>\n",
       "    </tr>\n",
       "    <tr>\n",
       "      <th>4</th>\n",
       "      <td>13040</td>\n",
       "      <td>1996-02-15</td>\n",
       "      <td>0</td>\n",
       "      <td>1995/96</td>\n",
       "      <td>OW</td>\n",
       "      <td>Pilatus / Matthorn / Ruessiflue</td>\n",
       "      <td>661640</td>\n",
       "      <td>202180</td>\n",
       "      <td>25</td>\n",
       "      <td>1860</td>\n",
       "      <td>NW</td>\n",
       "      <td>40.0</td>\n",
       "      <td>NaN</td>\n",
       "      <td>1</td>\n",
       "      <td>4</td>\n",
       "      <td>3</td>\n",
       "      <td>tour</td>\n",
       "    </tr>\n",
       "  </tbody>\n",
       "</table>\n",
       "</div>"
      ],
      "text/plain": [
       "   avalanche.id        date  date.quality hydrological.year canton  \\\n",
       "0         13007  1995-12-25             0           1995/96     VS   \n",
       "1         13014  1995-12-28             0           1995/96     VS   \n",
       "2         13028  1996-01-14             0           1995/96     GR   \n",
       "3         13038  1996-02-14             0           1995/96     VD   \n",
       "4         13040  1996-02-15             0           1995/96     OW   \n",
       "\n",
       "                         local.name  start.zone.coordinates.x  \\\n",
       "0  Chetseron / Vallon de l`Ertentse                    602380   \n",
       "1           Verbier / Les Ruinettes                    586070   \n",
       "2                     Chilchalphorn                    731720   \n",
       "3                     La Lécherette                    575300   \n",
       "4   Pilatus / Matthorn / Ruessiflue                    661640   \n",
       "\n",
       "   start.zone.coordinates.y  coordinates.quality  start.zone.elevation  \\\n",
       "0                    131230                   25                  2060   \n",
       "1                    104160                   25                  2340   \n",
       "2                    155110                   25                  2960   \n",
       "3                    141010                   25                  1580   \n",
       "4                    202180                   25                  1860   \n",
       "\n",
       "  start.zone.slope.aspect  start.zone.inclination  forecasted.dangerlevel  \\\n",
       "0                      NW                     NaN                     NaN   \n",
       "1                     NNE                    39.0                     NaN   \n",
       "2                       E                    35.0                     NaN   \n",
       "3                     NNW                    42.0                     NaN   \n",
       "4                      NW                    40.0                     NaN   \n",
       "\n",
       "   number.dead  number.caught  number.fully.buried  activity  \n",
       "0            2              2                    0  offpiste  \n",
       "1            1              1                    1  offpiste  \n",
       "2            1              4                    2      tour  \n",
       "3            1              2                    1  offpiste  \n",
       "4            1              4                    3      tour  "
      ]
     },
     "execution_count": 2,
     "metadata": {},
     "output_type": "execute_result"
    }
   ],
   "source": [
    "data = pd.read_csv('../../data/avalancheaccidentsswitzerlandsince1995.csv', encoding = \"latin1\")\n",
    "data.head()"
   ]
  },
  {
   "cell_type": "markdown",
   "metadata": {},
   "source": [
    "# Preliminary insight"
   ]
  },
  {
   "cell_type": "markdown",
   "metadata": {},
   "source": [
    "### Number of avalanches by canton"
   ]
  },
  {
   "cell_type": "code",
   "execution_count": 3,
   "metadata": {
    "collapsed": false
   },
   "outputs": [
    {
     "data": {
      "text/plain": [
       "VS       153\n",
       "GR       112\n",
       "BE        46\n",
       "UR        17\n",
       "SG        12\n",
       "VD         9\n",
       "SZ         7\n",
       "TI         5\n",
       "NW         5\n",
       "FR         4\n",
       "OW         3\n",
       "GL         3\n",
       "LU         2\n",
       "AI         2\n",
       "OW/LU      1\n",
       "Name: canton, dtype: int64"
      ]
     },
     "execution_count": 3,
     "metadata": {},
     "output_type": "execute_result"
    }
   ],
   "source": [
    "data['canton'].value_counts()"
   ]
  },
  {
   "cell_type": "markdown",
   "metadata": {},
   "source": [
    "### Number of avalanches by slope inclination"
   ]
  },
  {
   "cell_type": "code",
   "execution_count": 4,
   "metadata": {
    "collapsed": false
   },
   "outputs": [
    {
     "data": {
      "text/plain": [
       "(array([  2.,   1.,   8.,  25.,  70.,  94.,  57.,  10.,  14.,   4.]),\n",
       " array([ 23. ,  26.2,  29.4,  32.6,  35.8,  39. ,  42.2,  45.4,  48.6,\n",
       "         51.8,  55. ]),\n",
       " <a list of 10 Patch objects>)"
      ]
     },
     "execution_count": 4,
     "metadata": {},
     "output_type": "execute_result"
    },
    {
     "data": {
      "image/png": "[encoded data removed]",
      "text/plain": [
       "<matplotlib.figure.Figure at 0x555d4a8>"
      ]
     },
     "metadata": {},
     "output_type": "display_data"
    }
   ],
   "source": [
    "def removenan(x):\n",
    "    return [value for value in np.array(x) if not math.isnan(value)]\n",
    "plt.hist(removenan(data['start.zone.inclination']))"
   ]
  },
  {
   "cell_type": "markdown",
   "metadata": {},
   "source": [
    "### Number of avalanches by activity"
   ]
  },
  {
   "cell_type": "code",
   "execution_count": 5,
   "metadata": {
    "collapsed": false
   },
   "outputs": [
    {
     "data": {
      "text/plain": [
       "tour                       225\n",
       "offpiste                   138\n",
       "transportation.corridor     13\n",
       "building                     3\n",
       "other, mixed or unknown      2\n",
       "Name: activity, dtype: int64"
      ]
     },
     "execution_count": 5,
     "metadata": {},
     "output_type": "execute_result"
    }
   ],
   "source": [
    "data['activity'].value_counts()"
   ]
  },
  {
   "cell_type": "markdown",
   "metadata": {},
   "source": [
    "# Any difference between cantons in terms of avalanche slopes?"
   ]
  },
  {
   "cell_type": "markdown",
   "metadata": {},
   "source": [
    "### Comparing elevations and slope inclination across cantons"
   ]
  },
  {
   "cell_type": "code",
   "execution_count": 6,
   "metadata": {
    "collapsed": false
   },
   "outputs": [
    {
     "data": {
      "text/plain": [
       "<matplotlib.legend.Legend at 0x86aa588>"
      ]
     },
     "execution_count": 6,
     "metadata": {},
     "output_type": "execute_result"
    },
    {
     "data": {
      "image/png": "[encoded data removed]",
      "text/plain": [
       "<matplotlib.figure.Figure at 0x8654f60>"
      ]
     },
     "metadata": {},
     "output_type": "display_data"
    }
   ],
   "source": [
    "plt.plot(data['start.zone.elevation'][data['canton']=='VS'].values, data['start.zone.inclination'][data['canton']=='VS'].values, 'ro', label='VS')\n",
    "plt.plot(data['start.zone.elevation'][data['canton']=='GR'].values, data['start.zone.inclination'][data['canton']=='GR'].values, 'bo', label='GR')\n",
    "plt.plot(data['start.zone.elevation'][data['canton']=='BE'].values, data['start.zone.inclination'][data['canton']=='BE'].values, 'go', label='BE')\n",
    "\n",
    "plt.xlabel('Elevation (m)')\n",
    "plt.ylabel('Slope inclination (°)')\n",
    "plt.legend()"
   ]
  },
  {
   "cell_type": "markdown",
   "metadata": {},
   "source": [
    "We can see that in GR, there seems to be more avalanches for a slope inclination below 35° than in VS and BE. We can also notice that avalanches higher than 3000 meters occur mostly in VS, but this is probably due to the fact that VS contains the biggest mountains in Switzerland."
   ]
  },
  {
   "cell_type": "markdown",
   "metadata": {},
   "source": [
    "### Comparing slope exposition across cantons"
   ]
  },
  {
   "cell_type": "code",
   "execution_count": 7,
   "metadata": {
    "collapsed": false
   },
   "outputs": [
    {
     "data": {
      "text/plain": [
       "N      0.143791\n",
       "NE     0.137255\n",
       "NW     0.098039\n",
       "NNE    0.091503\n",
       "SE     0.084967\n",
       "NNW    0.078431\n",
       "E      0.065359\n",
       "SW     0.058824\n",
       "W      0.058824\n",
       "S      0.052288\n",
       "WNW    0.045752\n",
       "WSW    0.039216\n",
       "ESE    0.019608\n",
       "ENE    0.013072\n",
       "SSW    0.006536\n",
       "SSE    0.006536\n",
       "Name: start.zone.slope.aspect, dtype: float64"
      ]
     },
     "execution_count": 7,
     "metadata": {},
     "output_type": "execute_result"
    }
   ],
   "source": [
    "canton = 'VS' #Choose a canton\n",
    "serie = data['start.zone.slope.aspect'][data['canton']==canton]\n",
    "serie.value_counts()/len(serie)"
   ]
  },
  {
   "cell_type": "markdown",
   "metadata": {},
   "source": [
    "# Difference between activities"
   ]
  },
  {
   "cell_type": "code",
   "execution_count": 8,
   "metadata": {
    "collapsed": false
   },
   "outputs": [
    {
     "data": {
      "text/plain": [
       "<matplotlib.legend.Legend at 0x872e160>"
      ]
     },
     "execution_count": 8,
     "metadata": {},
     "output_type": "execute_result"
    },
    {
     "data": {
      "image/png": "[encoded data removed]",
      "text/plain": [
       "<matplotlib.figure.Figure at 0x55f16a0>"
      ]
     },
     "metadata": {},
     "output_type": "display_data"
    }
   ],
   "source": [
    "plt.plot(data['start.zone.elevation'][data['activity']=='tour'].values, data['start.zone.inclination'][data['activity']=='tour'].values, 'ro', label='tour')\n",
    "plt.plot(data['start.zone.elevation'][data['activity']=='offpiste'].values, data['start.zone.inclination'][data['activity']=='offpiste'].values, 'bo', label='offpiste')\n",
    "\n",
    "plt.xlabel('Elevation (m)')\n",
    "plt.ylabel('Slope inclination (°)')\n",
    "plt.legend()"
   ]
  },
  {
   "cell_type": "markdown",
   "metadata": {},
   "source": [
    "Visually we cannot see much difference, except that avalanches above 3000 meters occur mostly during ski tours and not offpiste, this is intuitive because very few ski lifts go above 3000 meters."
   ]
  },
  {
   "cell_type": "markdown",
   "metadata": {},
   "source": [
    "### Difference between forecasted danger level between activities"
   ]
  },
  {
   "cell_type": "code",
   "execution_count": 9,
   "metadata": {
    "collapsed": false
   },
   "outputs": [
    {
     "data": {
      "text/plain": [
       "3.0    90\n",
       "2.0    24\n",
       "4.0     4\n",
       "1.0     3\n",
       "Name: forecasted.dangerlevel, dtype: int64"
      ]
     },
     "execution_count": 9,
     "metadata": {},
     "output_type": "execute_result"
    }
   ],
   "source": [
    "activity = 'offpiste' #Choose an activity\n",
    "data['forecasted.dangerlevel'][data['activity']==activity].value_counts()"
   ]
  },
  {
   "cell_type": "markdown",
   "metadata": {},
   "source": [
    "We notice that although there are about the same number of avalanches by degree 3 for offpiste and ski tours, there are three times as much for ski tours by degree 2 than offpiste. "
   ]
  },
  {
   "cell_type": "markdown",
   "metadata": {},
   "source": [
    "### Differences of inclination"
   ]
  },
  {
   "cell_type": "code",
   "execution_count": 10,
   "metadata": {
    "collapsed": false
   },
   "outputs": [
    {
     "data": {
      "text/plain": [
       "(array([  2.,   1.,   5.,  17.,  42.,  56.,  29.,   6.,   7.,   3.]),\n",
       " array([ 23. ,  26.2,  29.4,  32.6,  35.8,  39. ,  42.2,  45.4,  48.6,\n",
       "         51.8,  55. ]),\n",
       " <a list of 10 Patch objects>)"
      ]
     },
     "execution_count": 10,
     "metadata": {},
     "output_type": "execute_result"
    },
    {
     "data": {
      "image/png": "[encoded data removed]",
      "text/plain": [
       "<matplotlib.figure.Figure at 0x867f2e8>"
      ]
     },
     "metadata": {},
     "output_type": "display_data"
    }
   ],
   "source": [
    "activity = 'tour'\n",
    "plt.hist(removenan(data['start.zone.inclination'][data['activity']==activity]))"
   ]
  },
  {
   "cell_type": "markdown",
   "metadata": {},
   "source": [
    "There does not seem to be a major difference between offpiste and ski tours for slope inclination."
   ]
  },
  {
   "cell_type": "markdown",
   "metadata": {
    "collapsed": true
   },
   "source": [
    "# Is there a difference between the seasons"
   ]
  },
  {
   "cell_type": "markdown",
   "metadata": {},
   "source": [
    "### Adding a column 'month' to the database"
   ]
  },
  {
   "cell_type": "code",
   "execution_count": 11,
   "metadata": {
    "collapsed": false
   },
   "outputs": [],
   "source": [
    "data['month'] = list(map(lambda x : x.split('-')[1], data['date']))"
   ]
  },
  {
   "cell_type": "markdown",
   "metadata": {},
   "source": [
    "### Plotting a heatmap of month against elevation"
   ]
  },
  {
   "cell_type": "code",
   "execution_count": 12,
   "metadata": {
    "collapsed": false
   },
   "outputs": [
    {
     "data": {
      "text/plain": [
       "<matplotlib.image.AxesImage at 0x893ac88>"
      ]
     },
     "execution_count": 12,
     "metadata": {},
     "output_type": "execute_result"
    },
    {
     "data": {
      "image/png": "[encoded data removed]",
      "text/plain": [
       "<matplotlib.figure.Figure at 0x88ecbe0>"
      ]
     },
     "metadata": {},
     "output_type": "display_data"
    }
   ],
   "source": [
    "data['elevation_rounded'] = list(map(lambda x :  int(math.ceil(x / 100.0)) * 100, data['start.zone.elevation']))\n",
    "plt.imshow(pd.crosstab(data['month'], data['elevation_rounded']))"
   ]
  },
  {
   "cell_type": "markdown",
   "metadata": {},
   "source": [
    "We can see that during summer avalanches occur mostly at very high elevations, compared to winter"
   ]
  },
  {
   "cell_type": "markdown",
   "metadata": {},
   "source": [
    "### Elevation against month"
   ]
  },
  {
   "cell_type": "code",
   "execution_count": 13,
   "metadata": {
    "collapsed": false
   },
   "outputs": [
    {
     "data": {
      "text/plain": [
       "<matplotlib.text.Text at 0x8987a58>"
      ]
     },
     "execution_count": 13,
     "metadata": {},
     "output_type": "execute_result"
    },
    {
     "data": {
      "image/png": "[encoded data removed]",
      "text/plain": [
       "<matplotlib.figure.Figure at 0x86dee80>"
      ]
     },
     "metadata": {},
     "output_type": "display_data"
    }
   ],
   "source": [
    "plt.plot(data.groupby(['month']).mean()['start.zone.elevation'], 'ro')\n",
    "plt.xlabel('Month of the year')\n",
    "plt.ylabel('Elevation')\n",
    "plt.title('Evolution of mean elevation during the year')"
   ]
  },
  {
   "cell_type": "markdown",
   "metadata": {},
   "source": [
    "We have to be careful about this plot because there are dramatically less avalanches in Spring, Summer and Autumn than in Winter (so it might not be statistically significant), but it seems that there is a linear relationship between end of Winter and end of Spring for the mean elevation of the avalanches."
   ]
  },
  {
   "cell_type": "markdown",
   "metadata": {},
   "source": [
    "### Inclination against month"
   ]
  },
  {
   "cell_type": "code",
   "execution_count": 14,
   "metadata": {
    "collapsed": false
   },
   "outputs": [
    {
     "data": {
      "text/plain": [
       "<matplotlib.text.Text at 0x89f12b0>"
      ]
     },
     "execution_count": 14,
     "metadata": {},
     "output_type": "execute_result"
    },
    {
     "data": {
      "image/png": "[encoded data removed]",
      "text/plain": [
       "<matplotlib.figure.Figure at 0x89bec50>"
      ]
     },
     "metadata": {},
     "output_type": "display_data"
    }
   ],
   "source": [
    "plt.plot(data.groupby(['month']).mean()['start.zone.inclination'], 'ro')\n",
    "plt.xlabel('Month of the year')\n",
    "plt.ylabel('Inclination')\n",
    "plt.title('Evolution of mean inclination during the year')"
   ]
  },
  {
   "cell_type": "markdown",
   "metadata": {},
   "source": [
    "The same remark seems to hold for inclination."
   ]
  },
  {
   "cell_type": "markdown",
   "metadata": {},
   "source": [
    "### Number of avalanches by month"
   ]
  },
  {
   "cell_type": "code",
   "execution_count": 15,
   "metadata": {
    "collapsed": false
   },
   "outputs": [
    {
     "data": {
      "text/plain": [
       "<matplotlib.text.Text at 0x9a21fd0>"
      ]
     },
     "execution_count": 15,
     "metadata": {},
     "output_type": "execute_result"
    },
    {
     "data": {
      "image/png": "[encoded data removed]",
      "text/plain": [
       "<matplotlib.figure.Figure at 0x89e9898>"
      ]
     },
     "metadata": {},
     "output_type": "display_data"
    }
   ],
   "source": [
    "plt.plot(data['month'].value_counts().sort_index())\n",
    "plt.xlim(1,12)\n",
    "plt.xlabel('Month of the year')\n",
    "plt.ylabel('Number of avalanches')\n",
    "plt.title('Evolution of nb of avalanches during the year')"
   ]
  },
  {
   "cell_type": "markdown",
   "metadata": {},
   "source": [
    "### Heatmap of month against slope orientation"
   ]
  },
  {
   "cell_type": "code",
   "execution_count": 16,
   "metadata": {
    "collapsed": false
   },
   "outputs": [],
   "source": [
    "#Reducing the number of different orientations for more statistical significance\n",
    "\n",
    "orientations_toround = ['NNE','ENE','ESE','SSE','SSW','WSW','WNW','NNW']\n",
    "orientations_round = ['N','E','E','S','S','W','W','N']\n",
    "\n",
    "data['orientation_rounded'] = data['start.zone.slope.aspect']\n",
    "for i in range(len(orientations_toround)):\n",
    "    data.loc[data['orientation_rounded']==orientations_toround[i], 'orientation_rounded'] = orientations_round[i]"
   ]
  },
  {
   "cell_type": "code",
   "execution_count": 17,
   "metadata": {
    "collapsed": false
   },
   "outputs": [
    {
     "data": {
      "text/plain": [
       "<matplotlib.image.AxesImage at 0x9aae2e8>"
      ]
     },
     "execution_count": 17,
     "metadata": {},
     "output_type": "execute_result"
    },
    {
     "data": {
      "image/png": "[encoded data removed]",
      "text/plain": [
       "<matplotlib.figure.Figure at 0x9a10978>"
      ]
     },
     "metadata": {},
     "output_type": "display_data"
    }
   ],
   "source": [
    "df_orientation = pd.crosstab(data['month'], data['orientation_rounded'])\n",
    "plt.imshow(df_orientation)\n",
    "#plt.imshow(df_orientation.div(df_orientation.sum(axis=1), axis=0))"
   ]
  },
  {
   "cell_type": "markdown",
   "metadata": {},
   "source": [
    "We do not see much difference in terms of orientations between the different periods of the year on this plot."
   ]
  },
  {
   "cell_type": "code",
   "execution_count": null,
   "metadata": {
    "collapsed": true
   },
   "outputs": [],
   "source": []
  }
 ],
 "metadata": {
  "anaconda-cloud": {},
  "kernelspec": {
   "display_name": "Python [Root]",
   "language": "python",
   "name": "Python [Root]"
  },
  "language_info": {
   "codemirror_mode": {
    "name": "ipython",
    "version": 3
   },
   "file_extension": ".py",
   "mimetype": "text/x-python",
   "name": "python",
   "nbconvert_exporter": "python",
   "pygments_lexer": "ipython3",
   "version": "3.4.5"
  }
 },
 "nbformat": 4,
 "nbformat_minor": 0
}
