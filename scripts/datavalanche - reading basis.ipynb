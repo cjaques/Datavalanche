{
 "cells": [
  {
   "cell_type": "code",
   "execution_count": 1,
   "metadata": {
    "collapsed": true
   },
   "outputs": [],
   "source": [
    "import numpy as np"
   ]
  },
  {
   "cell_type": "code",
   "execution_count": 5,
   "metadata": {
    "collapsed": false
   },
   "outputs": [],
   "source": [
    "data = np.load('avalanche-data.npy')[()]"
   ]
  },
  {
   "cell_type": "code",
   "execution_count": 20,
   "metadata": {
    "collapsed": false
   },
   "outputs": [
    {
     "data": {
      "text/plain": [
       "{u'altitude_arrivee': 0,\n",
       " u'altitude_depart': 0,\n",
       " u'auteur_photos': u'',\n",
       " u'caracteristique': u'',\n",
       " u'commentaire_qualite_neige': u'',\n",
       " u'commentaire_qualite_transportee': u'',\n",
       " u'commentaire_type_ecoulement': u'',\n",
       " u'commentaire_zone_arrivee': u'',\n",
       " u'commentaire_zone_depart': u'',\n",
       " u'dataOriginName': u'',\n",
       " u'dateAvalanche': 1512169200000,\n",
       " u'dateEvenement': 1512169200000,\n",
       " u'dateStr': u'02 12 2017',\n",
       " u'declenchement_a_distance': False,\n",
       " u'denivele': 0,\n",
       " u'description': u'\"Je l\\'ai declenche en passant dessus a ski en descente. La taille est d\\'environ 6m de large sur 40m de long et 35cm d\\'epaisseur.\\r\\nIl faut savoir que certaines plaques sont parties de maniere spontanee sur les orientations W.\"',\n",
       " u'descriptions': [],\n",
       " u'distance_declenchement': 0,\n",
       " u'draft': False,\n",
       " u'epaisseur_max_rupture': 0,\n",
       " u'epaisseur_rupture': 0,\n",
       " u'heureAuPlusTot': u'',\n",
       " u'id': 1512408981621,\n",
       " u'images': [],\n",
       " u'isPrivate': False,\n",
       " u'isSlab': False,\n",
       " u'isTriggeredBySkier': True,\n",
       " u'itineraire': u'Secteur Refuge du Lac Merlet',\n",
       " u'latitude': 45.365043,\n",
       " u'legalFilesPublic': [],\n",
       " u'localisation': u'',\n",
       " u'longitude': 6.654513,\n",
       " u'longueur_rupture': 0,\n",
       " u'massif': u'Vanoise',\n",
       " u'observateur': u'Yannis Merlet',\n",
       " u'organisation': 0,\n",
       " u'orientation': u'NE',\n",
       " u'origine_principale': u'Skieur rando.  descente',\n",
       " u'origine_secondaire': u'',\n",
       " u'pays': u'France',\n",
       " u'qualite_neige': u'',\n",
       " u'risque_meteo_france': u'Inconnu',\n",
       " u'sommet': u'Roc Merlet',\n",
       " u'tags': u'',\n",
       " u'thumbnail': u'',\n",
       " u'thumbnails': [],\n",
       " u'title': u'Vanoise, secteur Roc Merlet, Secteur Refuge du Lac Merlet - 02/12/2017',\n",
       " u'type_ecoulement_principal': u'',\n",
       " u'updated': 1512410565000,\n",
       " u'url_description': u''}"
      ]
     },
     "execution_count": 20,
     "metadata": {},
     "output_type": "execute_result"
    }
   ],
   "source": [
    "data[-1]"
   ]
  },
  {
   "cell_type": "code",
   "execution_count": 33,
   "metadata": {
    "collapsed": false
   },
   "outputs": [],
   "source": [
    "data_suisse = [d for d in data if 'Sui' in d['pays']]"
   ]
  },
  {
   "cell_type": "code",
   "execution_count": 58,
   "metadata": {
    "collapsed": false
   },
   "outputs": [
    {
     "data": {
      "text/plain": [
       "{u'altitude_arrivee': 0,\n",
       " u'altitude_depart': 1800,\n",
       " u'auteur_photos': u'Philippe Aigroz',\n",
       " u'caracteristique': u'',\n",
       " u'commentaire_qualite_neige': u'',\n",
       " u'commentaire_qualite_transportee': u'',\n",
       " u'commentaire_type_ecoulement': u'',\n",
       " u'commentaire_zone_arrivee': u\"Le cone d'avalanche s'est arrete dans la digue de protection du hameau de la Giette\",\n",
       " u'commentaire_zone_depart': u'Pente environ 42',\n",
       " u'dataOriginName': u'',\n",
       " u'dateAvalanche': 1515020400000,\n",
       " u'dateEvenement': 1515020400000,\n",
       " u'dateStr': u'04 01 2018',\n",
       " u'declenchement_a_distance': False,\n",
       " u'denivele': 0,\n",
       " u'description': u'Avalanche classee en taille moyenne - decrochement durant la nuit de jeudi 4 janvier<br>\\r\\nAvalanche de neige mouillee suite aux pluies\\r\\n<br> De nombreuses avalanches ont ete reperees dans la region.\\r\\n',\n",
       " u'descriptions': [],\n",
       " u'distance_declenchement': 0,\n",
       " u'draft': False,\n",
       " u'epaisseur_max_rupture': 0,\n",
       " u'epaisseur_rupture': 0,\n",
       " u'heureAuPlusTot': u'',\n",
       " u'id': 1515338634497,\n",
       " u'images': [u'/attached-files/img/1515338634497-1515338953649-DSCF1377.JPG',\n",
       "  u'/attached-files/img/1515338634497-1515339073517-DSCF1371.JPG'],\n",
       " u'isPrivate': False,\n",
       " u'isSlab': False,\n",
       " u'isTriggeredBySkier': False,\n",
       " u'itineraire': u'Devaloir de la Pareuse',\n",
       " u'latitude': 46.15069,\n",
       " u'legalFilesPublic': [],\n",
       " u'localisation': u'',\n",
       " u'longitude': 7.07491,\n",
       " u'longueur_rupture': 0,\n",
       " u'massif': u'Alpes Vaudoises',\n",
       " u'observateur': u'Philippe Aigroz',\n",
       " u'organisation': 0,\n",
       " u'orientation': u'W',\n",
       " u'origine_principale': u'Pluie',\n",
       " u'origine_secondaire': u'',\n",
       " u'pays': u'Suisse',\n",
       " u'qualite_neige': u'Mouillee',\n",
       " u'risque_meteo_france': u'4 - FORT',\n",
       " u'sommet': u'Sex Carro',\n",
       " u'tags': u'',\n",
       " u'thumbnail': u'/attached-files/thumbnails/1515338634497-1515338953649-DSCF1377.JPG',\n",
       " u'thumbnails': [u'/attached-files/thumbnails/1515338634497-1515338953649-DSCF1377.JPG',\n",
       "  u'/attached-files/thumbnails/1515338634497-1515339073517-DSCF1371.JPG'],\n",
       " u'title': u'Alpes Vaudoises, secteur Sex Carro, Devaloir de la Pareuse - 04/01/2018',\n",
       " u'type_ecoulement_principal': u'',\n",
       " u'updated': 1515339630000,\n",
       " u'url_description': u''}"
      ]
     },
     "execution_count": 58,
     "metadata": {},
     "output_type": "execute_result"
    }
   ],
   "source": [
    "data_suisse[65]"
   ]
  }
 ],
 "metadata": {
  "hide_input": false,
  "kernelspec": {
   "display_name": "Python [conda root]",
   "language": "python",
   "name": "conda-root-py"
  },
  "language_info": {
   "codemirror_mode": {
    "name": "ipython",
    "version": 2
   },
   "file_extension": ".py",
   "mimetype": "text/x-python",
   "name": "python",
   "nbconvert_exporter": "python",
   "pygments_lexer": "ipython2",
   "version": "2.7.12"
  },
  "latex_envs": {
   "bibliofile": "biblio.bib",
   "cite_by": "apalike",
   "current_citInitial": 1,
   "eqLabelWithNumbers": true,
   "eqNumInitial": 0
  }
 },
 "nbformat": 4,
 "nbformat_minor": 2
}
