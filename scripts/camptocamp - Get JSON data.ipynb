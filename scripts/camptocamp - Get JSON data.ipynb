{
 "cells": [
  {
   "cell_type": "markdown",
   "metadata": {},
   "source": [
    "    pip install beautifulsoup4\n",
    "    pip install unidecode"
   ]
  },
  {
   "cell_type": "code",
   "execution_count": 1,
   "metadata": {
    "collapsed": false
   },
   "outputs": [],
   "source": [
    "import numpy as np\n",
    "import unicodedata\n",
    "import requests\n",
    "import json\n",
    "from bs4 import BeautifulSoup"
   ]
  },
  {
   "cell_type": "code",
   "execution_count": 87,
   "metadata": {
    "collapsed": true
   },
   "outputs": [],
   "source": [
    "def extract_data_dict_from_html(html):\n",
    "    text = html.get_text()\n",
    "    idx_start = text.find('documentData')\n",
    "    idx_end = text.find('document.querySelector')\n",
    "    s = (text[idx_start+15:idx_end]).split(');')[0]\n",
    "    d = json.loads(s)\n",
    "    d_add = {\n",
    "        q: filter(lambda x : len(x), \n",
    "                  text[text.find(q):text.find(q)+200].split(':')[1].split('\\n'))[0].replace(' ','')\n",
    "        for q in ['snow_quality', 'avalanche_signs', 'quality'] if text.find(q) > 0\n",
    "    }\n",
    "    d.update(**d_add)\n",
    "    return d"
   ]
  },
  {
   "cell_type": "code",
   "execution_count": 82,
   "metadata": {
    "collapsed": true
   },
   "outputs": [],
   "source": [
    "url = [\n",
    "    'https://www.camptocamp.org/outings/1056650/fr/sommet-des-diablerets-du-col-du-sanetsch',\n",
    "    'https://www.camptocamp.org/outings/533744/fr/dent-d-herens-face-w',\n",
    "    'https://www.camptocamp.org/outings/1007804/fr/fletschhorn-de-la-weissmieshutte'\n",
    "]\n",
    "    "
   ]
  },
  {
   "cell_type": "code",
   "execution_count": 83,
   "metadata": {
    "collapsed": true
   },
   "outputs": [],
   "source": [
    "def get_data_dict(url):\n",
    "    r = requests.get(url)\n",
    "    return extract_data_dict_from_html(BeautifulSoup(r.content, 'html.parser'))"
   ]
  },
  {
   "cell_type": "code",
   "execution_count": 95,
   "metadata": {
    "collapsed": false
   },
   "outputs": [
    {
     "data": {
      "text/plain": [
       "{u'activities': [u'skitouring'],\n",
       " u'associations': {u'articles': [],\n",
       "  u'images': [],\n",
       "  u'routes': [{u'activities': [u'skitouring', u'snow_ice_mixed'],\n",
       "    u'areas': [{u'area_type': u'country',\n",
       "      u'available_langs': None,\n",
       "      u'document_id': 14067,\n",
       "      u'locales': [{u'lang': u'fr', u'title': u'Suisse', u'version': 1}],\n",
       "      u'protected': False,\n",
       "      u'type': u'a',\n",
       "      u'version': 10},\n",
       "     {u'area_type': u'admin_limits',\n",
       "      u'available_langs': None,\n",
       "      u'document_id': 14384,\n",
       "      u'locales': [{u'lang': u'fr', u'title': u'Valais', u'version': 10}],\n",
       "      u'protected': False,\n",
       "      u'type': u'a',\n",
       "      u'version': 9},\n",
       "     {u'area_type': u'range',\n",
       "      u'available_langs': None,\n",
       "      u'document_id': 14436,\n",
       "      u'locales': [{u'lang': u'fr',\n",
       "        u'title': u'Valais E - Alpes Pennines E',\n",
       "        u'version': 4}],\n",
       "      u'protected': False,\n",
       "      u'type': u'a',\n",
       "      u'version': 7}],\n",
       "    u'available_langs': [u'fr', u'it'],\n",
       "    u'document_id': 45558,\n",
       "    u'elevation_max': 3982,\n",
       "    u'elevation_min': 2720,\n",
       "    u'engagement_rating': u'III',\n",
       "    u'equipment_rating': u'P4',\n",
       "    u'geometry': {u'geom': u'{\"type\": \"Point\", \"coordinates\": [889019.568947254, 5804244.242746069]}',\n",
       "     u'has_geom_detail': False,\n",
       "     u'version': 8},\n",
       "    u'global_rating': u'PD',\n",
       "    u'height_diff_difficulties': None,\n",
       "    u'height_diff_down': 1260,\n",
       "    u'height_diff_up': 1260,\n",
       "    u'ice_rating': None,\n",
       "    u'labande_global_rating': u'AD',\n",
       "    u'labande_ski_rating': u'S4',\n",
       "    u'locales': [{u'lang': u'fr',\n",
       "      u'summary': None,\n",
       "      u'title': u'De la Weissmiesh\\xfctte',\n",
       "      u'title_prefix': u'Fletschhorn',\n",
       "      u'version': 13}],\n",
       "    u'mixed_rating': None,\n",
       "    u'orientations': [u'NW'],\n",
       "    u'protected': False,\n",
       "    u'quality': u'medium',\n",
       "    u'risk_rating': None,\n",
       "    u'ski_exposition': u'E1',\n",
       "    u'ski_rating': u'3.2',\n",
       "    u'type': u'r',\n",
       "    u'version': 8}],\n",
       "  u'users': [{u'activities': [u'skitouring',\n",
       "     u'snow_ice_mixed',\n",
       "     u'mountain_climbing',\n",
       "     u'rock_climbing',\n",
       "     u'hiking'],\n",
       "    u'areas': [{u'area_type': u'country',\n",
       "      u'available_langs': None,\n",
       "      u'document_id': 14274,\n",
       "      u'locales': [{u'lang': u'fr', u'title': u'France', u'version': 5}],\n",
       "      u'protected': False,\n",
       "      u'type': u'a',\n",
       "      u'version': 11},\n",
       "     {u'area_type': u'admin_limits',\n",
       "      u'available_langs': None,\n",
       "      u'document_id': 14313,\n",
       "      u'locales': [{u'lang': u'fr',\n",
       "        u'title': u'Meurthe-et-Moselle',\n",
       "        u'version': 2}],\n",
       "      u'protected': False,\n",
       "      u'type': u'a',\n",
       "      u'version': 2}],\n",
       "    u'available_langs': [u'fr'],\n",
       "    u'categories': [u'amateur'],\n",
       "    u'document_id': 742,\n",
       "    u'forum_username': u'Thierry_Jeandel',\n",
       "    u'locales': [{u'lang': u'fr', u'version': 6}],\n",
       "    u'name': u'Thierry Jeandel',\n",
       "    u'protected': False,\n",
       "    u'type': u'u',\n",
       "    u'version': 3}],\n",
       "  u'xreports': []},\n",
       " 'avalanche_signs': u'accidental_avalanche',\n",
       " u'date_end': u'2018-06-09',\n",
       " u'document_id': 1007804,\n",
       " u'lang': u'fr',\n",
       " u'protected': False,\n",
       " 'quality': u'medium',\n",
       " 'snow_quality': u'awful',\n",
       " u'title': u'Fletschhorn : De la Weissmiesh\\xfctte',\n",
       " u'topic_id': None,\n",
       " u'type': u'o'}"
      ]
     },
     "execution_count": 95,
     "metadata": {},
     "output_type": "execute_result"
    }
   ],
   "source": [
    "get_data_dict(url[2])"
   ]
  },
  {
   "cell_type": "code",
   "execution_count": null,
   "metadata": {
    "collapsed": true
   },
   "outputs": [],
   "source": []
  }
 ],
 "metadata": {
  "anaconda-cloud": {},
  "hide_input": false,
  "kernelspec": {
   "display_name": "Python [default]",
   "language": "python",
   "name": "python2"
  },
  "language_info": {
   "codemirror_mode": {
    "name": "ipython",
    "version": 2
   },
   "file_extension": ".py",
   "mimetype": "text/x-python",
   "name": "python",
   "nbconvert_exporter": "python",
   "pygments_lexer": "ipython2",
   "version": "2.7.12"
  },
  "latex_envs": {
   "bibliofile": "biblio.bib",
   "cite_by": "apalike",
   "current_citInitial": 1,
   "eqLabelWithNumbers": true,
   "eqNumInitial": 0
  }
 },
 "nbformat": 4,
 "nbformat_minor": 2
}
