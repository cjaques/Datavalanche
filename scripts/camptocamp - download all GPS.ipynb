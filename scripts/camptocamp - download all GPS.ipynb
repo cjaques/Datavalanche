{
 "cells": [
  {
   "cell_type": "markdown",
   "metadata": {},
   "source": [
    "    pip install beautifulsoup4\n",
    "    pip install unidecode"
   ]
  },
  {
   "cell_type": "code",
   "execution_count": 1,
   "metadata": {
    "collapsed": true
   },
   "outputs": [],
   "source": [
    "import numpy as np\n",
    "import unicodedata\n",
    "import requests\n",
    "import json\n",
    "from IPython.core import display\n",
    "from selenium import webdriver\n",
    "from bs4 import BeautifulSoup\n",
    "import os"
   ]
  },
  {
   "cell_type": "code",
   "execution_count": 2,
   "metadata": {
    "collapsed": false
   },
   "outputs": [
    {
     "name": "stdout",
     "output_type": "stream",
     "text": [
      "['2006-02-12.txt', '2008-02-14.txt', '2010-03-07.txt', '2012-05-11.txt', '2014-03-29.txt', '2016-03-30.txt', '2018-12-01.txt']\n"
     ]
    }
   ],
   "source": [
    "path = '../data/camptocamp/outiing_list/'\n",
    "files = os.listdir(path)\n",
    "files.sort()\n",
    "files = [f for f in files if not '.npy' in f]\n",
    "print files"
   ]
  },
  {
   "cell_type": "code",
   "execution_count": 170,
   "metadata": {
    "collapsed": true
   },
   "outputs": [],
   "source": [
    "idx_file = -6"
   ]
  },
  {
   "cell_type": "code",
   "execution_count": 171,
   "metadata": {
    "collapsed": true
   },
   "outputs": [],
   "source": [
    "file = open(path + files[idx_file])\n",
    "\n",
    "urls = file.readlines()\n",
    "urls = {int(url.split('/')[-3]): url for url in urls}"
   ]
  },
  {
   "cell_type": "code",
   "execution_count": 172,
   "metadata": {
    "collapsed": true
   },
   "outputs": [],
   "source": [
    "def get_countries(d):\n",
    "    try:\n",
    "        return [s['locales'][0]['title'] \n",
    "                for s in d['associations']['routes'][0]['areas'] if s['area_type'] == 'country']\n",
    "    except:\n",
    "        print 'failed get country for ', d['document_id']\n",
    "        return []"
   ]
  },
  {
   "cell_type": "code",
   "execution_count": 173,
   "metadata": {
    "collapsed": false
   },
   "outputs": [],
   "source": [
    "def is_in_switzerland(d):\n",
    "    return len(set(get_countries(d)).intersection(\n",
    "            set(['Schweiz', 'Suitza', 'Su\\xefssa', 'Svizzera', 'Switzerland', 'Suisse']))) > 0"
   ]
  },
  {
   "cell_type": "code",
   "execution_count": 177,
   "metadata": {
    "collapsed": false
   },
   "outputs": [
    {
     "data": {
      "text/plain": [
       "{u'Allemagne',\n",
       " u'Austria',\n",
       " u'Autriche',\n",
       " u'Deutschland',\n",
       " u'France',\n",
       " u'Francia',\n",
       " u'Italia',\n",
       " u'Italie',\n",
       " u'Liechtenstein',\n",
       " u'Schweiz',\n",
       " u'Suisse',\n",
       " u'Suiza',\n",
       " u'Svizzera',\n",
       " u'Switzerland'}"
      ]
     },
     "execution_count": 177,
     "metadata": {},
     "output_type": "execute_result"
    }
   ],
   "source": [
    "countries = []\n",
    "for d in data_outings.values():\n",
    "    countries += get_countries(d)\n",
    "\n",
    "set(countries)"
   ]
  },
  {
   "cell_type": "code",
   "execution_count": 178,
   "metadata": {
    "collapsed": true
   },
   "outputs": [],
   "source": [
    "# for f in os.listdir('/home/pignate/Downloads/'):\n",
    "#     if not 'kml' in f and not 'gpx' in f:\n",
    "#         continue\n",
    "#     idx = int(f.split('.')[0])\n",
    "#     if idx in data_outings and not is_in_switzerland(data_outings[idx]):\n",
    "#         print idx\n",
    "#         os.remove('/home/pignate/Downloads/' + f)"
   ]
  },
  {
   "cell_type": "code",
   "execution_count": 179,
   "metadata": {
    "collapsed": false
   },
   "outputs": [],
   "source": [
    "data_outings = np.load(path + files[idx_file].split('.')[0] + '_data_dict.npy')[()]"
   ]
  },
  {
   "cell_type": "code",
   "execution_count": 38,
   "metadata": {
    "collapsed": true
   },
   "outputs": [],
   "source": [
    "driver = webdriver.Chrome()\n",
    "driver.implicitly_wait(0.1)"
   ]
  },
  {
   "cell_type": "code",
   "execution_count": 180,
   "metadata": {
    "collapsed": false
   },
   "outputs": [
    {
     "name": "stdout",
     "output_type": "stream",
     "text": [
      "98777  has gps\n",
      "98842  has gps\n",
      "Did not find https://www.camptocamp.org/outings/98888/fr/l-asti-en-boucle-montee-face-nw-descente-face-ne\n",
      "\n",
      "108032  has gps\n",
      "109321  has gps\n",
      "109942  has gps\n",
      "110408  has gps\n",
      "110483  has gps\n",
      "110566  has gps\n",
      "110649  has gps\n",
      "111009  has gps\n",
      "111220  has gps\n",
      "111270  has gps\n",
      "111325  has gps\n",
      "112065  has gps\n",
      "114201  has gps\n",
      "114613  has gps\n",
      "115303  has gps\n",
      "115527  has gps\n",
      "116145  has gps\n",
      "116256  has gps\n",
      "116812  has gps\n",
      "116842  has gps\n",
      "577915  has gps\n",
      "94806  has gps\n",
      "95049  has gps\n",
      "95253  has gps\n",
      "98211  has gps\n"
     ]
    }
   ],
   "source": [
    "for idx, url in urls.iteritems():\n",
    "    if idx not in data_outings:\n",
    "        print 'Did not find %s' % url\n",
    "        continue\n",
    "    if data_outings[idx]['has_gps'] and is_in_switzerland(data_outings[idx]):\n",
    "        print idx, ' has gps'\n",
    "        driver.get(url)\n",
    "        try:\n",
    "            buttons = driver.find_elements_by_class_name('green-btn')\n",
    "            for button in buttons:\n",
    "                button.click()\n",
    "        except:\n",
    "            pass"
   ]
  },
  {
   "cell_type": "code",
   "execution_count": 4,
   "metadata": {
    "collapsed": true
   },
   "outputs": [],
   "source": [
    "driver.get('https://www.camptocamp.org/outings/1061088/fr/tochuhorn-arete-w-voie-normale')"
   ]
  },
  {
   "cell_type": "code",
   "execution_count": 5,
   "metadata": {
    "code_folding": [],
    "collapsed": true
   },
   "outputs": [],
   "source": [
    "def extract_data_dict_from_html(html, url):\n",
    "    text = html.get_text()\n",
    "    \n",
    "    # if text.find('Download track') != -1:\n",
    "    #     print \"Found gps\"\n",
    "    #     driver.get(url)\n",
    "    #     try:\n",
    "    #         buttons = driver.find_elements_by_class_name('green-btn')\n",
    "    #         for button in buttons:\n",
    "    #             button.click()\n",
    "    #     except:\n",
    "    #         pass\n",
    "        \n",
    "    idx_start = text.find('documentData')\n",
    "    idx_end = text.find('document.querySelector')\n",
    "    s = (text[idx_start+15:idx_end]).split(');')[0]\n",
    "    d = json.loads(s)\n",
    "    d_add = {\n",
    "        q: filter(lambda x : len(x), \n",
    "                  text[text.find(q):text.find(q)+200].split(':')[1].split('\\n'))[0].replace(' ','')\n",
    "        for q in ['snow_quality', 'avalanche_signs', 'quality'] if text.find(q) > 0\n",
    "    }\n",
    "    d.update(**d_add)\n",
    "    d['has_gps'] = text.find('Download track') != -1\n",
    "    return d"
   ]
  },
  {
   "cell_type": "code",
   "execution_count": 6,
   "metadata": {
    "collapsed": true
   },
   "outputs": [],
   "source": [
    "def get_data_dict(url):\n",
    "    try:\n",
    "        r = requests.get(url, timeout=5)\n",
    "        return extract_data_dict_from_html(BeautifulSoup(r.content, 'html.parser'), url)\n",
    "    except:\n",
    "        return False"
   ]
  },
  {
   "cell_type": "markdown",
   "metadata": {},
   "source": [
    "### Loading all data "
   ]
  },
  {
   "cell_type": "markdown",
   "metadata": {},
   "source": [
    "### Find url with gps "
   ]
  },
  {
   "cell_type": "code",
   "execution_count": 39,
   "metadata": {
    "collapsed": true
   },
   "outputs": [],
   "source": [
    "url_with_gps = []\n",
    "url = urls[0]"
   ]
  },
  {
   "cell_type": "code",
   "execution_count": 40,
   "metadata": {
    "collapsed": true
   },
   "outputs": [],
   "source": [
    "idx = urls.index(url)"
   ]
  },
  {
   "cell_type": "code",
   "execution_count": 41,
   "metadata": {
    "collapsed": false
   },
   "outputs": [
    {
     "data": {
      "text/plain": [
       "0"
      ]
     },
     "execution_count": 41,
     "metadata": {},
     "output_type": "execute_result"
    }
   ],
   "source": [
    "idx"
   ]
  },
  {
   "cell_type": "code",
   "execution_count": 42,
   "metadata": {
    "collapsed": false
   },
   "outputs": [
    {
     "name": "stdout",
     "output_type": "stream",
     "text": [
      "loaded https://www.camptocamp.org/outings/87356/fr/chasseron-traversee-sn-ns\n",
      "\n"
     ]
    }
   ],
   "source": [
    "for url in urls[idx:]:\n",
    "    display.clear_output(wait=True)\n",
    "    try:\n",
    "        print 'loaded', url\n",
    "        d = get_data_dict(url)\n",
    "        if d:\n",
    "        \tdata_dict[d['document_id']] = d\n",
    "        else:\n",
    "        \tprint 'Failed to load', url\n",
    "    except:\n",
    "        print 'Failed to load', url\n",
    "    "
   ]
  },
  {
   "cell_type": "code",
   "execution_count": null,
   "metadata": {
    "collapsed": true
   },
   "outputs": [],
   "source": [
    "\n"
   ]
  }
 ],
 "metadata": {
  "anaconda-cloud": {},
  "hide_input": false,
  "kernelspec": {
   "display_name": "Python [default]",
   "language": "python",
   "name": "python2"
  },
  "language_info": {
   "codemirror_mode": {
    "name": "ipython",
    "version": 2
   },
   "file_extension": ".py",
   "mimetype": "text/x-python",
   "name": "python",
   "nbconvert_exporter": "python",
   "pygments_lexer": "ipython2",
   "version": "2.7.12"
  },
  "latex_envs": {
   "LaTeX_envs_menu_present": true,
   "autoclose": false,
   "autocomplete": true,
   "bibliofile": "biblio.bib",
   "cite_by": "apalike",
   "current_citInitial": 1,
   "eqLabelWithNumbers": true,
   "eqNumInitial": 0,
   "hotkeys": {
    "equation": "Ctrl-E",
    "itemize": "Ctrl-I"
   },
   "labels_anchors": false,
   "latex_user_defs": false,
   "report_style_numbering": false,
   "user_envs_cfg": false
  }
 },
 "nbformat": 4,
 "nbformat_minor": 2
}
