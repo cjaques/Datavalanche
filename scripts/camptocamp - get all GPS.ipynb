{
 "cells": [
  {
   "cell_type": "markdown",
   "metadata": {},
   "source": [
    "    pip install beautifulsoup4\n",
    "    pip install unidecode"
   ]
  },
  {
   "cell_type": "code",
   "execution_count": 1,
   "metadata": {
    "collapsed": true
   },
   "outputs": [],
   "source": [
    "import numpy as np\n",
    "import unicodedata\n",
    "import requests\n",
    "import json\n",
    "from IPython.core import display\n",
    "from selenium import webdriver\n",
    "from bs4 import BeautifulSoup\n",
    "import os"
   ]
  },
  {
   "cell_type": "code",
   "execution_count": 2,
   "metadata": {
    "collapsed": false
   },
   "outputs": [
    {
     "name": "stdout",
     "output_type": "stream",
     "text": [
      "['2006-02-12.txt', '2008-02-14.txt', '2010-03-07.txt', '2012-05-11.txt', '2014-03-29.txt', '2016-03-30.txt', '2018-12-01.txt']\n"
     ]
    }
   ],
   "source": [
    "path = '../data/camptocamp/outiing_list/'\n",
    "files = os.listdir(path)\n",
    "files.sort()\n",
    "files = [f for f in files if not '.npy' in f]\n",
    "print files"
   ]
  },
  {
   "cell_type": "code",
   "execution_count": 3,
   "metadata": {
    "collapsed": true
   },
   "outputs": [],
   "source": [
    "driver = webdriver.Chrome()\n",
    "driver.implicitly_wait(0.1)"
   ]
  },
  {
   "cell_type": "code",
   "execution_count": 4,
   "metadata": {
    "collapsed": true
   },
   "outputs": [],
   "source": [
    "driver.get('https://www.camptocamp.org/outings/1061088/fr/tochuhorn-arete-w-voie-normale')"
   ]
  },
  {
   "cell_type": "code",
   "execution_count": 5,
   "metadata": {
    "code_folding": [],
    "collapsed": true
   },
   "outputs": [],
   "source": [
    "def extract_data_dict_from_html(html, url):\n",
    "    text = html.get_text()\n",
    "    \n",
    "    # if text.find('Download track') != -1:\n",
    "    #     print \"Found gps\"\n",
    "    #     driver.get(url)\n",
    "    #     try:\n",
    "    #         buttons = driver.find_elements_by_class_name('green-btn')\n",
    "    #         for button in buttons:\n",
    "    #             button.click()\n",
    "    #     except:\n",
    "    #         pass\n",
    "        \n",
    "    idx_start = text.find('documentData')\n",
    "    idx_end = text.find('document.querySelector')\n",
    "    s = (text[idx_start+15:idx_end]).split(');')[0]\n",
    "    d = json.loads(s)\n",
    "    d_add = {\n",
    "        q: filter(lambda x : len(x), \n",
    "                  text[text.find(q):text.find(q)+200].split(':')[1].split('\\n'))[0].replace(' ','')\n",
    "        for q in ['snow_quality', 'avalanche_signs', 'quality'] if text.find(q) > 0\n",
    "    }\n",
    "    d.update(**d_add)\n",
    "    d['has_gps'] = text.find('Download track') != -1\n",
    "    return d"
   ]
  },
  {
   "cell_type": "code",
   "execution_count": 6,
   "metadata": {
    "collapsed": true
   },
   "outputs": [],
   "source": [
    "def get_data_dict(url):\n",
    "    try:\n",
    "        r = requests.get(url, timeout=5)\n",
    "        return extract_data_dict_from_html(BeautifulSoup(r.content, 'html.parser'), url)\n",
    "    except:\n",
    "        return False"
   ]
  },
  {
   "cell_type": "markdown",
   "metadata": {},
   "source": [
    "### Loading all data "
   ]
  },
  {
   "cell_type": "code",
   "execution_count": 7,
   "metadata": {
    "collapsed": true
   },
   "outputs": [],
   "source": [
    "idx_file = -6"
   ]
  },
  {
   "cell_type": "code",
   "execution_count": 8,
   "metadata": {
    "collapsed": true
   },
   "outputs": [],
   "source": [
    "file = open(path + files[idx_file])"
   ]
  },
  {
   "cell_type": "code",
   "execution_count": 9,
   "metadata": {
    "collapsed": true
   },
   "outputs": [],
   "source": [
    "urls = file.readlines()"
   ]
  },
  {
   "cell_type": "code",
   "execution_count": 10,
   "metadata": {
    "collapsed": true
   },
   "outputs": [],
   "source": [
    "data_dict = {}"
   ]
  },
  {
   "cell_type": "markdown",
   "metadata": {},
   "source": [
    "### Find url with gps "
   ]
  },
  {
   "cell_type": "code",
   "execution_count": 11,
   "metadata": {
    "collapsed": true
   },
   "outputs": [],
   "source": [
    "url_with_gps = []\n",
    "url = urls[0]"
   ]
  },
  {
   "cell_type": "code",
   "execution_count": 12,
   "metadata": {
    "collapsed": true
   },
   "outputs": [],
   "source": [
    "idx = urls.index(url)"
   ]
  },
  {
   "cell_type": "code",
   "execution_count": 13,
   "metadata": {
    "collapsed": false
   },
   "outputs": [
    {
     "data": {
      "text/plain": [
       "0"
      ]
     },
     "execution_count": 13,
     "metadata": {},
     "output_type": "execute_result"
    }
   ],
   "source": [
    "idx"
   ]
  },
  {
   "cell_type": "code",
   "execution_count": 14,
   "metadata": {
    "collapsed": false
   },
   "outputs": [
    {
     "name": "stdout",
     "output_type": "stream",
     "text": [
      "loaded https://www.camptocamp.org/outings/87356/fr/chasseron-traversee-sn-ns\n",
      "\n"
     ]
    }
   ],
   "source": [
    "for url in urls[idx:]:\n",
    "    display.clear_output(wait=True)\n",
    "    try:\n",
    "        print 'loaded', url\n",
    "        d = get_data_dict(url)\n",
    "        if d:\n",
    "        \tdata_dict[d['document_id']] = d\n",
    "        else:\n",
    "        \tprint 'Failed to load', url\n",
    "    except:\n",
    "        print 'Failed to load', url\n",
    "    "
   ]
  },
  {
   "cell_type": "code",
   "execution_count": 15,
   "metadata": {
    "collapsed": true
   },
   "outputs": [],
   "source": [
    "np.save(path + files[idx_file].split('.')[0] + '_data_dict', data_dict)"
   ]
  },
  {
   "cell_type": "code",
   "execution_count": 38,
   "metadata": {
    "collapsed": true
   },
   "outputs": [],
   "source": [
    "data_test = np.load(path + files[-1].split('.')[0] + '_data_dict.npy')[()]"
   ]
  },
  {
   "cell_type": "code",
   "execution_count": null,
   "metadata": {
    "collapsed": true
   },
   "outputs": [],
   "source": [
    "\n"
   ]
  }
 ],
 "metadata": {
  "anaconda-cloud": {},
  "hide_input": false,
  "kernelspec": {
   "display_name": "Python [default]",
   "language": "python",
   "name": "python2"
  },
  "language_info": {
   "codemirror_mode": {
    "name": "ipython",
    "version": 2
   },
   "file_extension": ".py",
   "mimetype": "text/x-python",
   "name": "python",
   "nbconvert_exporter": "python",
   "pygments_lexer": "ipython2",
   "version": "2.7.12"
  },
  "latex_envs": {
   "LaTeX_envs_menu_present": true,
   "autoclose": false,
   "autocomplete": true,
   "bibliofile": "biblio.bib",
   "cite_by": "apalike",
   "current_citInitial": 1,
   "eqLabelWithNumbers": true,
   "eqNumInitial": 0,
   "hotkeys": {
    "equation": "Ctrl-E",
    "itemize": "Ctrl-I"
   },
   "labels_anchors": false,
   "latex_user_defs": false,
   "report_style_numbering": false,
   "user_envs_cfg": false
  }
 },
 "nbformat": 4,
 "nbformat_minor": 2
}
