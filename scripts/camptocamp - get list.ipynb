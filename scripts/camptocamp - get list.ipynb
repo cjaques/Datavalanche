{
 "cells": [
  {
   "cell_type": "markdown",
   "metadata": {},
   "source": [
    "    pip install beautifulsoup4\n",
    "    pip install unidecode"
   ]
  },
  {
   "cell_type": "code",
   "execution_count": 129,
   "metadata": {
    "collapsed": false
   },
   "outputs": [],
   "source": [
    "import numpy as np\n",
    "import unicodedata\n",
    "import requests\n",
    "import json\n",
    "from IPython.core import display\n",
    "from selenium import webdriver\n",
    "from bs4 import BeautifulSoup"
   ]
  },
  {
   "cell_type": "code",
   "execution_count": 57,
   "metadata": {
    "collapsed": true
   },
   "outputs": [],
   "source": [
    "bboxs = {\n",
    "    'valais-chamonix': '730055%252C5742279%252C940409%252C5883535'\n",
    "}"
   ]
  },
  {
   "cell_type": "code",
   "execution_count": 157,
   "metadata": {
    "collapsed": true
   },
   "outputs": [],
   "source": [
    "def get_url(bbox, offset=0):\n",
    "    return 'https://www.camptocamp.org/outings#bbox=%s&act=skitouring&date=2001-01-01%%252C2014-01-26&offset=%d' % (bbox, offset)"
   ]
  },
  {
   "cell_type": "code",
   "execution_count": 171,
   "metadata": {
    "collapsed": true
   },
   "outputs": [],
   "source": [
    "driver = webdriver.Chrome()"
   ]
  },
  {
   "cell_type": "code",
   "execution_count": 172,
   "metadata": {
    "collapsed": true
   },
   "outputs": [],
   "source": [
    "driver.implicitly_wait(1) # seconds"
   ]
  },
  {
   "cell_type": "code",
   "execution_count": 173,
   "metadata": {
    "collapsed": false
   },
   "outputs": [],
   "source": [
    "driver.get(get_url(bboxs['valais-chamonix'], offset=30))"
   ]
  },
  {
   "cell_type": "code",
   "execution_count": null,
   "metadata": {
    "collapsed": true
   },
   "outputs": [],
   "source": [
    "# hrefs_lists = []"
   ]
  },
  {
   "cell_type": "code",
   "execution_count": 168,
   "metadata": {
    "collapsed": false
   },
   "outputs": [
    {
     "data": {
      "text/plain": [
       "[]"
      ]
     },
     "execution_count": 168,
     "metadata": {},
     "output_type": "execute_result"
    }
   ],
   "source": [
    "hrefs_lists[-20]"
   ]
  },
  {
   "cell_type": "code",
   "execution_count": 174,
   "metadata": {
    "collapsed": false
   },
   "outputs": [
    {
     "name": "stdout",
     "output_type": "stream",
     "text": [
      "le-luisin-couloir-e\n",
      "vanil-blanc-voie-normale\n",
      "mont-billiat-le-jumeau-cache-de-mevonne-couloir-n\n",
      "les-louerettes-voie-normale-depuis-siviez\n",
      "buet-voie-normale\n",
      "grammont-traversee-tanay-saint-gingolph-par-la-combe-de-chaumeny\n",
      "becca-colinta-voie-normale-depuis-bourg-st-pierre\n",
      "tarent-voie-normale\n",
      "serre-de-vuibe-couloir-ohne-namen\n",
      "bec-rond-depuis-branche-d-en-bas\n",
      "schopfenspitz-gros-brun-en-circuit-par-patraflon\n",
      "gros-chatillon-voie-normale\n",
      "arete-ne-des-trois-merles-couloir-w\n",
      "cheibehorn-par-la-face-n\n",
      "cornettes-de-bise-sommet-et-tour-antihoraire-depuis-freney\n",
      "petite-pointe-d-orny-couloir-ne\n",
      "le-van-versant-w\n",
      "cornettes-de-bise-en-boucle-par-tanay\n",
      "le-metailler-voie-normale-depuis-siviez\n",
      "le-genepi-arpette-couloir-ne-depuis-le-plan-de-l-au\n",
      "roc-de-tavaneuse-voie-normale-depuis-pretairie\n",
      "grande-lui-voie-normale\n",
      "tarent-voie-normale\n",
      "cols-des-aiguilles-crochues-col-de-berard-traversee-flegere-berard\n",
      "les-quatre-tetes-face-n-depuis-burzier\n",
      "pizzo-tignaga-da-carcoforo\n",
      "col-du-bonhomme-voie-normale-par-notre-dame-de-la-gorge\n",
      "berretta-del-vescovo-per-la-val-gronda\n",
      "bel-oiseau-couloir-ne\n",
      "giferspitz-du-turbachtal-par-l-arete-n\n"
     ]
    }
   ],
   "source": [
    "for i in range(0, 10000, 30):\n",
    "    display.clear_output(wait=True)\n",
    "    driver.get(get_url(bboxs['valais-chamonix'], offset=i))\n",
    "    \n",
    "    driver.refresh()\n",
    "    temp_list = get_outings_href(driver)\n",
    "    for l in temp_list:\n",
    "        print l.split('/')[-1]\n",
    "    hrefs_lists += [temp_list]\n",
    "    "
   ]
  },
  {
   "cell_type": "markdown",
   "metadata": {},
   "source": [
    "id=\"card1059224\" class=\"list-item ng-scope outings\" "
   ]
  },
  {
   "cell_type": "code",
   "execution_count": 71,
   "metadata": {
    "collapsed": false
   },
   "outputs": [],
   "source": [
    "def get_outings_href(driver):\n",
    "    items = driver.find_elements_by_class_name('outings')\n",
    "    links = [item.find_element_by_class_name('text-link') for item in items]\n",
    "    return [link.get_attribute('href') for link in links]"
   ]
  },
  {
   "cell_type": "code",
   "execution_count": 175,
   "metadata": {
    "collapsed": true
   },
   "outputs": [],
   "source": [
    "stacked_list = [] \n",
    "for _l in hrefs_lists:\n",
    "    stacked_list += _l"
   ]
  },
  {
   "cell_type": "code",
   "execution_count": 180,
   "metadata": {
    "collapsed": false
   },
   "outputs": [],
   "source": [
    "stacked_list = [l for l in stacked_list if len(l) > 2]"
   ]
  },
  {
   "cell_type": "code",
   "execution_count": 181,
   "metadata": {
    "collapsed": false
   },
   "outputs": [
    {
     "data": {
      "text/plain": [
       "19980"
      ]
     },
     "execution_count": 181,
     "metadata": {},
     "output_type": "execute_result"
    }
   ],
   "source": [
    "len(stacked_list)"
   ]
  },
  {
   "cell_type": "code",
   "execution_count": 223,
   "metadata": {
    "collapsed": true
   },
   "outputs": [],
   "source": [
    "file = open('refs_28_02_2009_now.txt','w') \n",
    " "
   ]
  },
  {
   "cell_type": "code",
   "execution_count": 224,
   "metadata": {
    "collapsed": false
   },
   "outputs": [],
   "source": [
    "for l in stacked_list:\n",
    "    file.write(l.encode(\"UTF-8\") + '\\n')"
   ]
  },
  {
   "cell_type": "code",
   "execution_count": 225,
   "metadata": {
    "collapsed": true
   },
   "outputs": [],
   "source": [
    "file.close()"
   ]
  },
  {
   "cell_type": "code",
   "execution_count": null,
   "metadata": {
    "collapsed": true
   },
   "outputs": [],
   "source": []
  }
 ],
 "metadata": {
  "anaconda-cloud": {},
  "hide_input": false,
  "kernelspec": {
   "display_name": "Python [default]",
   "language": "python",
   "name": "python2"
  },
  "language_info": {
   "codemirror_mode": {
    "name": "ipython",
    "version": 2
   },
   "file_extension": ".py",
   "mimetype": "text/x-python",
   "name": "python",
   "nbconvert_exporter": "python",
   "pygments_lexer": "ipython2",
   "version": "2.7.12"
  },
  "latex_envs": {
   "bibliofile": "biblio.bib",
   "cite_by": "apalike",
   "current_citInitial": 1,
   "eqLabelWithNumbers": true,
   "eqNumInitial": 0
  }
 },
 "nbformat": 4,
 "nbformat_minor": 2
}
