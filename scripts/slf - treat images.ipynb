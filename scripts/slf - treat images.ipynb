{
 "cells": [
  {
   "cell_type": "markdown",
   "metadata": {},
   "source": [
    "    pip install beautifulsoup4\n",
    "    pip install unidecode"
   ]
  },
  {
   "cell_type": "code",
   "execution_count": 35,
   "metadata": {
    "collapsed": false
   },
   "outputs": [],
   "source": [
    "import numpy as np\n",
    "import unicodedata\n",
    "import requests\n",
    "import json\n",
    "from IPython.core import display\n",
    "from selenium import webdriver\n",
    "from bs4 import BeautifulSoup\n",
    "import os\n",
    "import cv2 as cv\n",
    "import matplotlib.pyplot as plt\n",
    "from scipy import ndimage\n",
    "%matplotlib inline"
   ]
  },
  {
   "cell_type": "code",
   "execution_count": 36,
   "metadata": {
    "collapsed": true
   },
   "outputs": [],
   "source": [
    "from skimage import data, color\n",
    "from skimage.transform import rescale, resize, downscale_local_mean"
   ]
  },
  {
   "cell_type": "code",
   "execution_count": 13,
   "metadata": {
    "collapsed": false
   },
   "outputs": [],
   "source": [
    "def get_filelist(year):\n",
    "    filelist = os.listdir('../data/slf/one_day_snowfall/%d/' % year)\n",
    "    filelist.sort()\n",
    "    filelist = ['../data/slf/one_day_snowfall/%d/' % year + f for f in filelist]\n",
    "    return filelist"
   ]
  },
  {
   "cell_type": "code",
   "execution_count": 29,
   "metadata": {
    "collapsed": false
   },
   "outputs": [],
   "source": [
    "img = plt.imread(get_filelist(2007))"
   ]
  },
  {
   "cell_type": "markdown",
   "metadata": {},
   "source": [
    "### Load first report of all year "
   ]
  },
  {
   "cell_type": "code",
   "execution_count": 190,
   "metadata": {
    "collapsed": false
   },
   "outputs": [],
   "source": [
    "imgs = []\n",
    "\n",
    "for year in range(2002, 2018):\n",
    "    list_year = get_filelist(year)\n",
    "    img = resize(plt.imread(list_year[10]), (663, 963))\n",
    "    \n",
    "    if year >= 2014:\n",
    "        mat = 1.025 * np.eye(3)\n",
    "        mat[0, 0] = 1.\n",
    "        img = ndimage.interpolation.affine_transform(img,  mat)\n",
    "        img = ndimage.interpolation.shift(img, (9., -16., 0.))\n",
    "    \n",
    "    imgs += [img]"
   ]
  },
  {
   "cell_type": "code",
   "execution_count": 191,
   "metadata": {
    "collapsed": true
   },
   "outputs": [],
   "source": [
    "cv.imshow('test',np.mean(imgs[-6:-3], axis=0))\n",
    "k = cv.waitKey(30) & 0xff"
   ]
  },
  {
   "cell_type": "code",
   "execution_count": 185,
   "metadata": {
    "collapsed": false
   },
   "outputs": [],
   "source": [
    "for img in imgs:\n",
    "    cv.imshow('test',img)\n",
    "    k = cv.waitKey(30) & 0xff"
   ]
  },
  {
   "cell_type": "code",
   "execution_count": 86,
   "metadata": {
    "collapsed": false
   },
   "outputs": [],
   "source": [
    "cv.imshow('test',imgs[-1])\n",
    "k = cv.waitKey(30) & 0xff"
   ]
  },
  {
   "cell_type": "code",
   "execution_count": 32,
   "metadata": {
    "collapsed": false
   },
   "outputs": [],
   "source": [
    "for year in range(2002, 2017):\n",
    "    list_year = get_filelist(year)\n",
    "    for n in list_year:\n",
    "        img = plt.imread(n)\n",
    "        cv.imshow('frame2', img)\n",
    "        # cv.imshow('frame2',bgr)\n",
    "        k = cv.waitKey(30) & 0xff"
   ]
  },
  {
   "cell_type": "code",
   "execution_count": 207,
   "metadata": {
    "collapsed": false
   },
   "outputs": [
    {
     "data": {
      "text/plain": [
       "(663, 963, 3)"
      ]
     },
     "execution_count": 207,
     "metadata": {},
     "output_type": "execute_result"
    }
   ],
   "source": [
    "imgs[0][:,:,:3].shape"
   ]
  },
  {
   "cell_type": "code",
   "execution_count": 238,
   "metadata": {
    "collapsed": false
   },
   "outputs": [
    {
     "data": {
      "text/plain": [
       "array([0.8, 1. , 1. , 1. ])"
      ]
     },
     "execution_count": 238,
     "metadata": {},
     "output_type": "execute_result"
    }
   ],
   "source": [
    "imgs[0][300, 450]"
   ]
  },
  {
   "cell_type": "code",
   "execution_count": 221,
   "metadata": {
    "collapsed": false
   },
   "outputs": [
    {
     "data": {
      "text/plain": [
       "array([0.8, 1. , 1. , 1. ])"
      ]
     },
     "execution_count": 221,
     "metadata": {},
     "output_type": "execute_result"
    }
   ],
   "source": [
    "np.array([0.8, 1. , 1. , 1. ])"
   ]
  },
  {
   "cell_type": "code",
   "execution_count": 249,
   "metadata": {
    "collapsed": false
   },
   "outputs": [
    {
     "data": {
      "text/plain": [
       "<matplotlib.image.AxesImage at 0x7fc12b591c50>"
      ]
     },
     "execution_count": 249,
     "metadata": {},
     "output_type": "execute_result"
    },
    {
     "data": {
      "image/png": "[encoded data removed]",
      "text/plain": [
       "<matplotlib.figure.Figure at 0x7fc12b6103d0>"
      ]
     },
     "metadata": {},
     "output_type": "display_data"
    }
   ],
   "source": [
    "plt.imshow( (imgs[0] - np.array([0.8, 1. , 1. , 0. ])[None, None])**2)"
   ]
  },
  {
   "cell_type": "code",
   "execution_count": 8,
   "metadata": {
    "collapsed": false
   },
   "outputs": [
    {
     "data": {
      "text/plain": [
       "['20161101.png',\n",
       " '20161102.png',\n",
       " '20161103.png',\n",
       " '20161104.png',\n",
       " '20161105.png',\n",
       " '20161106.png',\n",
       " '20161107.png',\n",
       " '20161108.png',\n",
       " '20161109.png',\n",
       " '20161110.png',\n",
       " '20161111.png',\n",
       " '20161112.png',\n",
       " '20161113.png',\n",
       " '20161114.png',\n",
       " '20161115.png',\n",
       " '20161116.png',\n",
       " '20161117.png',\n",
       " '20161118.png',\n",
       " '20161119.png',\n",
       " '20161120.png',\n",
       " '20161121.png',\n",
       " '20161122.png',\n",
       " '20161123.png',\n",
       " '20161124.png',\n",
       " '20161125.png',\n",
       " '20161126.png',\n",
       " '20161127.png',\n",
       " '20161128.png',\n",
       " '20161129.png',\n",
       " '20161130.png',\n",
       " '20161201.png',\n",
       " '20161202.png',\n",
       " '20161203.png',\n",
       " '20161204.png',\n",
       " '20161205.png',\n",
       " '20161206.png',\n",
       " '20161207.png',\n",
       " '20161208.png',\n",
       " '20161209.png',\n",
       " '20161210.png',\n",
       " '20161211.png',\n",
       " '20161212.png',\n",
       " '20161213.png',\n",
       " '20161214.png',\n",
       " '20161215.png',\n",
       " '20161216.png',\n",
       " '20161217.png',\n",
       " '20161218.png',\n",
       " '20161219.png',\n",
       " '20161220.png',\n",
       " '20161221.png',\n",
       " '20161222.png',\n",
       " '20161223.png',\n",
       " '20161224.png',\n",
       " '20161225.png',\n",
       " '20161226.png',\n",
       " '20161227.png',\n",
       " '20161228.png',\n",
       " '20161229.png',\n",
       " '20161230.png',\n",
       " '20161231.png',\n",
       " '20170101.png',\n",
       " '20170102.png',\n",
       " '20170103.png',\n",
       " '20170104.png',\n",
       " '20170105.png',\n",
       " '20170106.png',\n",
       " '20170107.png',\n",
       " '20170108.png',\n",
       " '20170109.png',\n",
       " '20170110.png',\n",
       " '20170111.png',\n",
       " '20170112.png',\n",
       " '20170113.png',\n",
       " '20170114.png',\n",
       " '20170115.png',\n",
       " '20170116.png',\n",
       " '20170117.png',\n",
       " '20170118.png',\n",
       " '20170119.png',\n",
       " '20170120.png',\n",
       " '20170121.png',\n",
       " '20170122.png',\n",
       " '20170123.png',\n",
       " '20170124.png',\n",
       " '20170125.png',\n",
       " '20170126.png',\n",
       " '20170127.png',\n",
       " '20170128.png',\n",
       " '20170129.png',\n",
       " '20170130.png',\n",
       " '20170131.png',\n",
       " '20170201.png',\n",
       " '20170202.png',\n",
       " '20170203.png',\n",
       " '20170204.png',\n",
       " '20170205.png',\n",
       " '20170206.png',\n",
       " '20170207.png',\n",
       " '20170208.png',\n",
       " '20170209.png',\n",
       " '20170210.png',\n",
       " '20170211.png',\n",
       " '20170212.png',\n",
       " '20170213.png',\n",
       " '20170214.png',\n",
       " '20170215.png',\n",
       " '20170216.png',\n",
       " '20170217.png',\n",
       " '20170218.png',\n",
       " '20170219.png',\n",
       " '20170220.png',\n",
       " '20170221.png',\n",
       " '20170222.png',\n",
       " '20170223.png',\n",
       " '20170224.png',\n",
       " '20170225.png',\n",
       " '20170226.png',\n",
       " '20170227.png',\n",
       " '20170228.png',\n",
       " '20170301.png',\n",
       " '20170302.png',\n",
       " '20170303.png',\n",
       " '20170304.png',\n",
       " '20170305.png',\n",
       " '20170306.png',\n",
       " '20170307.png',\n",
       " '20170308.png',\n",
       " '20170309.png',\n",
       " '20170310.png',\n",
       " '20170311.png',\n",
       " '20170312.png',\n",
       " '20170313.png',\n",
       " '20170314.png',\n",
       " '20170315.png',\n",
       " '20170316.png',\n",
       " '20170317.png',\n",
       " '20170318.png',\n",
       " '20170319.png',\n",
       " '20170320.png',\n",
       " '20170321.png',\n",
       " '20170322.png',\n",
       " '20170323.png',\n",
       " '20170324.png',\n",
       " '20170325.png',\n",
       " '20170326.png',\n",
       " '20170327.png',\n",
       " '20170328.png',\n",
       " '20170329.png',\n",
       " '20170330.png',\n",
       " '20170331.png',\n",
       " '20170401.png',\n",
       " '20170402.png',\n",
       " '20170403.png',\n",
       " '20170404.png',\n",
       " '20170405.png',\n",
       " '20170406.png',\n",
       " '20170407.png',\n",
       " '20170408.png',\n",
       " '20170409.png',\n",
       " '20170410.png',\n",
       " '20170411.png',\n",
       " '20170412.png',\n",
       " '20170413.png',\n",
       " '20170414.png',\n",
       " '20170415.png',\n",
       " '20170416.png',\n",
       " '20170417.png',\n",
       " '20170418.png',\n",
       " '20170419.png',\n",
       " '20170420.png',\n",
       " '20170421.png',\n",
       " '20170422.png',\n",
       " '20170423.png',\n",
       " '20170424.png',\n",
       " '20170425.png',\n",
       " '20170426.png',\n",
       " '20170427.png',\n",
       " '20170428.png',\n",
       " '20170429.png',\n",
       " '20170430.png',\n",
       " '20170501.png',\n",
       " '20170502.png',\n",
       " '20170503.png',\n",
       " '20170504.png',\n",
       " '20170505.png',\n",
       " '20170506.png',\n",
       " '20170507.png',\n",
       " '20170508.png']"
      ]
     },
     "execution_count": 8,
     "metadata": {},
     "output_type": "execute_result"
    }
   ],
   "source": [
    "filelist"
   ]
  }
 ],
 "metadata": {
  "anaconda-cloud": {},
  "hide_input": false,
  "kernelspec": {
   "display_name": "Python [default]",
   "language": "python",
   "name": "python2"
  },
  "language_info": {
   "codemirror_mode": {
    "name": "ipython",
    "version": 2
   },
   "file_extension": ".py",
   "mimetype": "text/x-python",
   "name": "python",
   "nbconvert_exporter": "python",
   "pygments_lexer": "ipython2",
   "version": "2.7.12"
  },
  "latex_envs": {
   "bibliofile": "biblio.bib",
   "cite_by": "apalike",
   "current_citInitial": 1,
   "eqLabelWithNumbers": true,
   "eqNumInitial": 0
  }
 },
 "nbformat": 4,
 "nbformat_minor": 2
}
