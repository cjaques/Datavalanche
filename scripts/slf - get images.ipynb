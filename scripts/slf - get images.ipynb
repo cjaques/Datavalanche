{
 "cells": [
  {
   "cell_type": "markdown",
   "metadata": {},
   "source": [
    "    pip install beautifulsoup4\n",
    "    pip install unidecode"
   ]
  },
  {
   "cell_type": "code",
   "execution_count": 1,
   "metadata": {
    "collapsed": false
   },
   "outputs": [],
   "source": [
    "import numpy as np\n",
    "import unicodedata\n",
    "import requests\n",
    "import json\n",
    "from IPython.core import display\n",
    "from selenium import webdriver\n",
    "from bs4 import BeautifulSoup"
   ]
  },
  {
   "cell_type": "code",
   "execution_count": 2,
   "metadata": {
    "collapsed": true
   },
   "outputs": [],
   "source": [
    "driver = webdriver.Chrome()"
   ]
  },
  {
   "cell_type": "code",
   "execution_count": 3,
   "metadata": {
    "collapsed": true
   },
   "outputs": [],
   "source": [
    "driver.implicitly_wait(1) # seconds"
   ]
  },
  {
   "cell_type": "code",
   "execution_count": 19,
   "metadata": {
    "collapsed": false
   },
   "outputs": [],
   "source": [
    "def get_url(year):\n",
    "    if year >= 2014:\n",
    "        f = 'png'\n",
    "    else:\n",
    "        f = 'gif'\n",
    "        \n",
    "    return \"https://www.slf.ch/de/lawinenbulletin-und-schneesituation/archiv.html\" +\\\n",
    "    \"?tx_wslavalanches_archiv%5Bpath%5D=%2Fuser_upload%2Fimport%2Flwdarchiv\" +\\\n",
    "    \"%2Fpublic%2F\" + str(year) + \"%2Fhn1%2Fde%2F\" + f + \"%2F&tx_wslavalanches_archiv%5Baction\" +\\\n",
    "    \"%5D=showArchiv&tx_wslavalanches_archiv%5Bcontroller%5D=Avalanche&cHash=8bdd9ab34057939136c15b6bcd33504f\"\n",
    "    "
   ]
  },
  {
   "cell_type": "code",
   "execution_count": 22,
   "metadata": {
    "collapsed": false
   },
   "outputs": [],
   "source": [
    "driver.get(get_url(2002))\n",
    "driver.refresh()"
   ]
  },
  {
   "cell_type": "code",
   "execution_count": 34,
   "metadata": {
    "collapsed": true
   },
   "outputs": [],
   "source": [
    "def get_list_of_color_images(driver):\n",
    "    link_list = driver.find_elements_by_class_name('linkedListPoint')\n",
    "    links = [link.find_element_by_class_name('download').get_attribute('href')\n",
    "            for link in link_list]\n",
    "    links = [link for link in links if link[-5] == 'c']\n",
    "    return links"
   ]
  },
  {
   "cell_type": "code",
   "execution_count": 36,
   "metadata": {
    "collapsed": false
   },
   "outputs": [
    {
     "name": "stdout",
     "output_type": "stream",
     "text": [
      "[u'https://www.slf.ch/fileadmin/user_upload/import/lwdarchiv/public/2017/hn1/de/png/20161101_hn1_de_c.png', u'https://www.slf.ch/fileadmin/user_upload/import/lwdarchiv/public/2017/hn1/de/png/20161102_hn1_de_c.png', u'https://www.slf.ch/fileadmin/user_upload/import/lwdarchiv/public/2017/hn1/de/png/20161103_hn1_de_c.png', u'https://www.slf.ch/fileadmin/user_upload/import/lwdarchiv/public/2017/hn1/de/png/20161104_hn1_de_c.png', u'https://www.slf.ch/fileadmin/user_upload/import/lwdarchiv/public/2017/hn1/de/png/20161105_hn1_de_c.png', u'https://www.slf.ch/fileadmin/user_upload/import/lwdarchiv/public/2017/hn1/de/png/20161106_hn1_de_c.png', u'https://www.slf.ch/fileadmin/user_upload/import/lwdarchiv/public/2017/hn1/de/png/20161107_hn1_de_c.png', u'https://www.slf.ch/fileadmin/user_upload/import/lwdarchiv/public/2017/hn1/de/png/20161108_hn1_de_c.png', u'https://www.slf.ch/fileadmin/user_upload/import/lwdarchiv/public/2017/hn1/de/png/20161109_hn1_de_c.png', u'https://www.slf.ch/fileadmin/user_upload/import/lwdarchiv/public/2017/hn1/de/png/20161110_hn1_de_c.png', u'https://www.slf.ch/fileadmin/user_upload/import/lwdarchiv/public/2017/hn1/de/png/20161111_hn1_de_c.png', u'https://www.slf.ch/fileadmin/user_upload/import/lwdarchiv/public/2017/hn1/de/png/20161112_hn1_de_c.png', u'https://www.slf.ch/fileadmin/user_upload/import/lwdarchiv/public/2017/hn1/de/png/20161113_hn1_de_c.png', u'https://www.slf.ch/fileadmin/user_upload/import/lwdarchiv/public/2017/hn1/de/png/20161114_hn1_de_c.png', u'https://www.slf.ch/fileadmin/user_upload/import/lwdarchiv/public/2017/hn1/de/png/20161115_hn1_de_c.png', u'https://www.slf.ch/fileadmin/user_upload/import/lwdarchiv/public/2017/hn1/de/png/20161116_hn1_de_c.png', u'https://www.slf.ch/fileadmin/user_upload/import/lwdarchiv/public/2017/hn1/de/png/20161117_hn1_de_c.png', u'https://www.slf.ch/fileadmin/user_upload/import/lwdarchiv/public/2017/hn1/de/png/20161118_hn1_de_c.png', u'https://www.slf.ch/fileadmin/user_upload/import/lwdarchiv/public/2017/hn1/de/png/20161119_hn1_de_c.png', u'https://www.slf.ch/fileadmin/user_upload/import/lwdarchiv/public/2017/hn1/de/png/20161120_hn1_de_c.png', u'https://www.slf.ch/fileadmin/user_upload/import/lwdarchiv/public/2017/hn1/de/png/20161121_hn1_de_c.png', u'https://www.slf.ch/fileadmin/user_upload/import/lwdarchiv/public/2017/hn1/de/png/20161122_hn1_de_c.png', u'https://www.slf.ch/fileadmin/user_upload/import/lwdarchiv/public/2017/hn1/de/png/20161123_hn1_de_c.png', u'https://www.slf.ch/fileadmin/user_upload/import/lwdarchiv/public/2017/hn1/de/png/20161124_hn1_de_c.png', u'https://www.slf.ch/fileadmin/user_upload/import/lwdarchiv/public/2017/hn1/de/png/20161125_hn1_de_c.png', u'https://www.slf.ch/fileadmin/user_upload/import/lwdarchiv/public/2017/hn1/de/png/20161126_hn1_de_c.png', u'https://www.slf.ch/fileadmin/user_upload/import/lwdarchiv/public/2017/hn1/de/png/20161127_hn1_de_c.png', u'https://www.slf.ch/fileadmin/user_upload/import/lwdarchiv/public/2017/hn1/de/png/20161128_hn1_de_c.png', u'https://www.slf.ch/fileadmin/user_upload/import/lwdarchiv/public/2017/hn1/de/png/20161129_hn1_de_c.png', u'https://www.slf.ch/fileadmin/user_upload/import/lwdarchiv/public/2017/hn1/de/png/20161130_hn1_de_c.png', u'https://www.slf.ch/fileadmin/user_upload/import/lwdarchiv/public/2017/hn1/de/png/20161201_hn1_de_c.png', u'https://www.slf.ch/fileadmin/user_upload/import/lwdarchiv/public/2017/hn1/de/png/20161202_hn1_de_c.png', u'https://www.slf.ch/fileadmin/user_upload/import/lwdarchiv/public/2017/hn1/de/png/20161203_hn1_de_c.png', u'https://www.slf.ch/fileadmin/user_upload/import/lwdarchiv/public/2017/hn1/de/png/20161204_hn1_de_c.png', u'https://www.slf.ch/fileadmin/user_upload/import/lwdarchiv/public/2017/hn1/de/png/20161205_hn1_de_c.png', u'https://www.slf.ch/fileadmin/user_upload/import/lwdarchiv/public/2017/hn1/de/png/20161206_hn1_de_c.png', u'https://www.slf.ch/fileadmin/user_upload/import/lwdarchiv/public/2017/hn1/de/png/20161207_hn1_de_c.png', u'https://www.slf.ch/fileadmin/user_upload/import/lwdarchiv/public/2017/hn1/de/png/20161208_hn1_de_c.png', u'https://www.slf.ch/fileadmin/user_upload/import/lwdarchiv/public/2017/hn1/de/png/20161209_hn1_de_c.png', u'https://www.slf.ch/fileadmin/user_upload/import/lwdarchiv/public/2017/hn1/de/png/20161210_hn1_de_c.png', u'https://www.slf.ch/fileadmin/user_upload/import/lwdarchiv/public/2017/hn1/de/png/20161211_hn1_de_c.png', u'https://www.slf.ch/fileadmin/user_upload/import/lwdarchiv/public/2017/hn1/de/png/20161212_hn1_de_c.png', u'https://www.slf.ch/fileadmin/user_upload/import/lwdarchiv/public/2017/hn1/de/png/20161213_hn1_de_c.png', u'https://www.slf.ch/fileadmin/user_upload/import/lwdarchiv/public/2017/hn1/de/png/20161214_hn1_de_c.png', u'https://www.slf.ch/fileadmin/user_upload/import/lwdarchiv/public/2017/hn1/de/png/20161215_hn1_de_c.png', u'https://www.slf.ch/fileadmin/user_upload/import/lwdarchiv/public/2017/hn1/de/png/20161216_hn1_de_c.png', u'https://www.slf.ch/fileadmin/user_upload/import/lwdarchiv/public/2017/hn1/de/png/20161217_hn1_de_c.png', u'https://www.slf.ch/fileadmin/user_upload/import/lwdarchiv/public/2017/hn1/de/png/20161218_hn1_de_c.png', u'https://www.slf.ch/fileadmin/user_upload/import/lwdarchiv/public/2017/hn1/de/png/20161219_hn1_de_c.png', u'https://www.slf.ch/fileadmin/user_upload/import/lwdarchiv/public/2017/hn1/de/png/20161220_hn1_de_c.png', u'https://www.slf.ch/fileadmin/user_upload/import/lwdarchiv/public/2017/hn1/de/png/20161221_hn1_de_c.png', u'https://www.slf.ch/fileadmin/user_upload/import/lwdarchiv/public/2017/hn1/de/png/20161222_hn1_de_c.png', u'https://www.slf.ch/fileadmin/user_upload/import/lwdarchiv/public/2017/hn1/de/png/20161223_hn1_de_c.png', u'https://www.slf.ch/fileadmin/user_upload/import/lwdarchiv/public/2017/hn1/de/png/20161224_hn1_de_c.png', u'https://www.slf.ch/fileadmin/user_upload/import/lwdarchiv/public/2017/hn1/de/png/20161225_hn1_de_c.png', u'https://www.slf.ch/fileadmin/user_upload/import/lwdarchiv/public/2017/hn1/de/png/20161226_hn1_de_c.png', u'https://www.slf.ch/fileadmin/user_upload/import/lwdarchiv/public/2017/hn1/de/png/20161227_hn1_de_c.png', u'https://www.slf.ch/fileadmin/user_upload/import/lwdarchiv/public/2017/hn1/de/png/20161228_hn1_de_c.png', u'https://www.slf.ch/fileadmin/user_upload/import/lwdarchiv/public/2017/hn1/de/png/20161229_hn1_de_c.png', u'https://www.slf.ch/fileadmin/user_upload/import/lwdarchiv/public/2017/hn1/de/png/20161230_hn1_de_c.png', u'https://www.slf.ch/fileadmin/user_upload/import/lwdarchiv/public/2017/hn1/de/png/20161231_hn1_de_c.png', u'https://www.slf.ch/fileadmin/user_upload/import/lwdarchiv/public/2017/hn1/de/png/20170101_hn1_de_c.png', u'https://www.slf.ch/fileadmin/user_upload/import/lwdarchiv/public/2017/hn1/de/png/20170102_hn1_de_c.png', u'https://www.slf.ch/fileadmin/user_upload/import/lwdarchiv/public/2017/hn1/de/png/20170103_hn1_de_c.png', u'https://www.slf.ch/fileadmin/user_upload/import/lwdarchiv/public/2017/hn1/de/png/20170104_hn1_de_c.png', u'https://www.slf.ch/fileadmin/user_upload/import/lwdarchiv/public/2017/hn1/de/png/20170105_hn1_de_c.png', u'https://www.slf.ch/fileadmin/user_upload/import/lwdarchiv/public/2017/hn1/de/png/20170106_hn1_de_c.png', u'https://www.slf.ch/fileadmin/user_upload/import/lwdarchiv/public/2017/hn1/de/png/20170107_hn1_de_c.png', u'https://www.slf.ch/fileadmin/user_upload/import/lwdarchiv/public/2017/hn1/de/png/20170108_hn1_de_c.png', u'https://www.slf.ch/fileadmin/user_upload/import/lwdarchiv/public/2017/hn1/de/png/20170109_hn1_de_c.png', u'https://www.slf.ch/fileadmin/user_upload/import/lwdarchiv/public/2017/hn1/de/png/20170110_hn1_de_c.png', u'https://www.slf.ch/fileadmin/user_upload/import/lwdarchiv/public/2017/hn1/de/png/20170111_hn1_de_c.png', u'https://www.slf.ch/fileadmin/user_upload/import/lwdarchiv/public/2017/hn1/de/png/20170112_hn1_de_c.png', u'https://www.slf.ch/fileadmin/user_upload/import/lwdarchiv/public/2017/hn1/de/png/20170113_hn1_de_c.png', u'https://www.slf.ch/fileadmin/user_upload/import/lwdarchiv/public/2017/hn1/de/png/20170114_hn1_de_c.png', u'https://www.slf.ch/fileadmin/user_upload/import/lwdarchiv/public/2017/hn1/de/png/20170115_hn1_de_c.png', u'https://www.slf.ch/fileadmin/user_upload/import/lwdarchiv/public/2017/hn1/de/png/20170116_hn1_de_c.png', u'https://www.slf.ch/fileadmin/user_upload/import/lwdarchiv/public/2017/hn1/de/png/20170117_hn1_de_c.png', u'https://www.slf.ch/fileadmin/user_upload/import/lwdarchiv/public/2017/hn1/de/png/20170118_hn1_de_c.png', u'https://www.slf.ch/fileadmin/user_upload/import/lwdarchiv/public/2017/hn1/de/png/20170119_hn1_de_c.png', u'https://www.slf.ch/fileadmin/user_upload/import/lwdarchiv/public/2017/hn1/de/png/20170120_hn1_de_c.png', u'https://www.slf.ch/fileadmin/user_upload/import/lwdarchiv/public/2017/hn1/de/png/20170121_hn1_de_c.png', u'https://www.slf.ch/fileadmin/user_upload/import/lwdarchiv/public/2017/hn1/de/png/20170122_hn1_de_c.png', u'https://www.slf.ch/fileadmin/user_upload/import/lwdarchiv/public/2017/hn1/de/png/20170123_hn1_de_c.png', u'https://www.slf.ch/fileadmin/user_upload/import/lwdarchiv/public/2017/hn1/de/png/20170124_hn1_de_c.png', u'https://www.slf.ch/fileadmin/user_upload/import/lwdarchiv/public/2017/hn1/de/png/20170125_hn1_de_c.png', u'https://www.slf.ch/fileadmin/user_upload/import/lwdarchiv/public/2017/hn1/de/png/20170126_hn1_de_c.png', u'https://www.slf.ch/fileadmin/user_upload/import/lwdarchiv/public/2017/hn1/de/png/20170127_hn1_de_c.png', u'https://www.slf.ch/fileadmin/user_upload/import/lwdarchiv/public/2017/hn1/de/png/20170128_hn1_de_c.png', u'https://www.slf.ch/fileadmin/user_upload/import/lwdarchiv/public/2017/hn1/de/png/20170129_hn1_de_c.png', u'https://www.slf.ch/fileadmin/user_upload/import/lwdarchiv/public/2017/hn1/de/png/20170130_hn1_de_c.png', u'https://www.slf.ch/fileadmin/user_upload/import/lwdarchiv/public/2017/hn1/de/png/20170131_hn1_de_c.png', u'https://www.slf.ch/fileadmin/user_upload/import/lwdarchiv/public/2017/hn1/de/png/20170201_hn1_de_c.png', u'https://www.slf.ch/fileadmin/user_upload/import/lwdarchiv/public/2017/hn1/de/png/20170202_hn1_de_c.png', u'https://www.slf.ch/fileadmin/user_upload/import/lwdarchiv/public/2017/hn1/de/png/20170203_hn1_de_c.png', u'https://www.slf.ch/fileadmin/user_upload/import/lwdarchiv/public/2017/hn1/de/png/20170204_hn1_de_c.png', u'https://www.slf.ch/fileadmin/user_upload/import/lwdarchiv/public/2017/hn1/de/png/20170205_hn1_de_c.png', u'https://www.slf.ch/fileadmin/user_upload/import/lwdarchiv/public/2017/hn1/de/png/20170206_hn1_de_c.png', u'https://www.slf.ch/fileadmin/user_upload/import/lwdarchiv/public/2017/hn1/de/png/20170207_hn1_de_c.png', u'https://www.slf.ch/fileadmin/user_upload/import/lwdarchiv/public/2017/hn1/de/png/20170208_hn1_de_c.png', u'https://www.slf.ch/fileadmin/user_upload/import/lwdarchiv/public/2017/hn1/de/png/20170209_hn1_de_c.png', u'https://www.slf.ch/fileadmin/user_upload/import/lwdarchiv/public/2017/hn1/de/png/20170210_hn1_de_c.png', u'https://www.slf.ch/fileadmin/user_upload/import/lwdarchiv/public/2017/hn1/de/png/20170211_hn1_de_c.png', u'https://www.slf.ch/fileadmin/user_upload/import/lwdarchiv/public/2017/hn1/de/png/20170212_hn1_de_c.png', u'https://www.slf.ch/fileadmin/user_upload/import/lwdarchiv/public/2017/hn1/de/png/20170213_hn1_de_c.png', u'https://www.slf.ch/fileadmin/user_upload/import/lwdarchiv/public/2017/hn1/de/png/20170214_hn1_de_c.png', u'https://www.slf.ch/fileadmin/user_upload/import/lwdarchiv/public/2017/hn1/de/png/20170215_hn1_de_c.png', u'https://www.slf.ch/fileadmin/user_upload/import/lwdarchiv/public/2017/hn1/de/png/20170216_hn1_de_c.png', u'https://www.slf.ch/fileadmin/user_upload/import/lwdarchiv/public/2017/hn1/de/png/20170217_hn1_de_c.png', u'https://www.slf.ch/fileadmin/user_upload/import/lwdarchiv/public/2017/hn1/de/png/20170218_hn1_de_c.png', u'https://www.slf.ch/fileadmin/user_upload/import/lwdarchiv/public/2017/hn1/de/png/20170219_hn1_de_c.png', u'https://www.slf.ch/fileadmin/user_upload/import/lwdarchiv/public/2017/hn1/de/png/20170220_hn1_de_c.png', u'https://www.slf.ch/fileadmin/user_upload/import/lwdarchiv/public/2017/hn1/de/png/20170221_hn1_de_c.png', u'https://www.slf.ch/fileadmin/user_upload/import/lwdarchiv/public/2017/hn1/de/png/20170222_hn1_de_c.png', u'https://www.slf.ch/fileadmin/user_upload/import/lwdarchiv/public/2017/hn1/de/png/20170223_hn1_de_c.png', u'https://www.slf.ch/fileadmin/user_upload/import/lwdarchiv/public/2017/hn1/de/png/20170224_hn1_de_c.png', u'https://www.slf.ch/fileadmin/user_upload/import/lwdarchiv/public/2017/hn1/de/png/20170225_hn1_de_c.png', u'https://www.slf.ch/fileadmin/user_upload/import/lwdarchiv/public/2017/hn1/de/png/20170226_hn1_de_c.png', u'https://www.slf.ch/fileadmin/user_upload/import/lwdarchiv/public/2017/hn1/de/png/20170227_hn1_de_c.png', u'https://www.slf.ch/fileadmin/user_upload/import/lwdarchiv/public/2017/hn1/de/png/20170228_hn1_de_c.png', u'https://www.slf.ch/fileadmin/user_upload/import/lwdarchiv/public/2017/hn1/de/png/20170301_hn1_de_c.png', u'https://www.slf.ch/fileadmin/user_upload/import/lwdarchiv/public/2017/hn1/de/png/20170302_hn1_de_c.png', u'https://www.slf.ch/fileadmin/user_upload/import/lwdarchiv/public/2017/hn1/de/png/20170303_hn1_de_c.png', u'https://www.slf.ch/fileadmin/user_upload/import/lwdarchiv/public/2017/hn1/de/png/20170304_hn1_de_c.png', u'https://www.slf.ch/fileadmin/user_upload/import/lwdarchiv/public/2017/hn1/de/png/20170305_hn1_de_c.png', u'https://www.slf.ch/fileadmin/user_upload/import/lwdarchiv/public/2017/hn1/de/png/20170306_hn1_de_c.png', u'https://www.slf.ch/fileadmin/user_upload/import/lwdarchiv/public/2017/hn1/de/png/20170307_hn1_de_c.png', u'https://www.slf.ch/fileadmin/user_upload/import/lwdarchiv/public/2017/hn1/de/png/20170308_hn1_de_c.png', u'https://www.slf.ch/fileadmin/user_upload/import/lwdarchiv/public/2017/hn1/de/png/20170309_hn1_de_c.png', u'https://www.slf.ch/fileadmin/user_upload/import/lwdarchiv/public/2017/hn1/de/png/20170310_hn1_de_c.png', u'https://www.slf.ch/fileadmin/user_upload/import/lwdarchiv/public/2017/hn1/de/png/20170311_hn1_de_c.png', u'https://www.slf.ch/fileadmin/user_upload/import/lwdarchiv/public/2017/hn1/de/png/20170312_hn1_de_c.png', u'https://www.slf.ch/fileadmin/user_upload/import/lwdarchiv/public/2017/hn1/de/png/20170313_hn1_de_c.png', u'https://www.slf.ch/fileadmin/user_upload/import/lwdarchiv/public/2017/hn1/de/png/20170314_hn1_de_c.png', u'https://www.slf.ch/fileadmin/user_upload/import/lwdarchiv/public/2017/hn1/de/png/20170315_hn1_de_c.png', u'https://www.slf.ch/fileadmin/user_upload/import/lwdarchiv/public/2017/hn1/de/png/20170316_hn1_de_c.png', u'https://www.slf.ch/fileadmin/user_upload/import/lwdarchiv/public/2017/hn1/de/png/20170317_hn1_de_c.png', u'https://www.slf.ch/fileadmin/user_upload/import/lwdarchiv/public/2017/hn1/de/png/20170318_hn1_de_c.png', u'https://www.slf.ch/fileadmin/user_upload/import/lwdarchiv/public/2017/hn1/de/png/20170319_hn1_de_c.png', u'https://www.slf.ch/fileadmin/user_upload/import/lwdarchiv/public/2017/hn1/de/png/20170320_hn1_de_c.png', u'https://www.slf.ch/fileadmin/user_upload/import/lwdarchiv/public/2017/hn1/de/png/20170321_hn1_de_c.png', u'https://www.slf.ch/fileadmin/user_upload/import/lwdarchiv/public/2017/hn1/de/png/20170322_hn1_de_c.png', u'https://www.slf.ch/fileadmin/user_upload/import/lwdarchiv/public/2017/hn1/de/png/20170323_hn1_de_c.png', u'https://www.slf.ch/fileadmin/user_upload/import/lwdarchiv/public/2017/hn1/de/png/20170324_hn1_de_c.png', u'https://www.slf.ch/fileadmin/user_upload/import/lwdarchiv/public/2017/hn1/de/png/20170325_hn1_de_c.png', u'https://www.slf.ch/fileadmin/user_upload/import/lwdarchiv/public/2017/hn1/de/png/20170326_hn1_de_c.png', u'https://www.slf.ch/fileadmin/user_upload/import/lwdarchiv/public/2017/hn1/de/png/20170327_hn1_de_c.png', u'https://www.slf.ch/fileadmin/user_upload/import/lwdarchiv/public/2017/hn1/de/png/20170328_hn1_de_c.png', u'https://www.slf.ch/fileadmin/user_upload/import/lwdarchiv/public/2017/hn1/de/png/20170329_hn1_de_c.png', u'https://www.slf.ch/fileadmin/user_upload/import/lwdarchiv/public/2017/hn1/de/png/20170330_hn1_de_c.png', u'https://www.slf.ch/fileadmin/user_upload/import/lwdarchiv/public/2017/hn1/de/png/20170331_hn1_de_c.png', u'https://www.slf.ch/fileadmin/user_upload/import/lwdarchiv/public/2017/hn1/de/png/20170401_hn1_de_c.png', u'https://www.slf.ch/fileadmin/user_upload/import/lwdarchiv/public/2017/hn1/de/png/20170402_hn1_de_c.png', u'https://www.slf.ch/fileadmin/user_upload/import/lwdarchiv/public/2017/hn1/de/png/20170403_hn1_de_c.png', u'https://www.slf.ch/fileadmin/user_upload/import/lwdarchiv/public/2017/hn1/de/png/20170404_hn1_de_c.png', u'https://www.slf.ch/fileadmin/user_upload/import/lwdarchiv/public/2017/hn1/de/png/20170405_hn1_de_c.png', u'https://www.slf.ch/fileadmin/user_upload/import/lwdarchiv/public/2017/hn1/de/png/20170406_hn1_de_c.png', u'https://www.slf.ch/fileadmin/user_upload/import/lwdarchiv/public/2017/hn1/de/png/20170407_hn1_de_c.png', u'https://www.slf.ch/fileadmin/user_upload/import/lwdarchiv/public/2017/hn1/de/png/20170408_hn1_de_c.png', u'https://www.slf.ch/fileadmin/user_upload/import/lwdarchiv/public/2017/hn1/de/png/20170409_hn1_de_c.png', u'https://www.slf.ch/fileadmin/user_upload/import/lwdarchiv/public/2017/hn1/de/png/20170410_hn1_de_c.png', u'https://www.slf.ch/fileadmin/user_upload/import/lwdarchiv/public/2017/hn1/de/png/20170411_hn1_de_c.png', u'https://www.slf.ch/fileadmin/user_upload/import/lwdarchiv/public/2017/hn1/de/png/20170412_hn1_de_c.png', u'https://www.slf.ch/fileadmin/user_upload/import/lwdarchiv/public/2017/hn1/de/png/20170413_hn1_de_c.png', u'https://www.slf.ch/fileadmin/user_upload/import/lwdarchiv/public/2017/hn1/de/png/20170414_hn1_de_c.png', u'https://www.slf.ch/fileadmin/user_upload/import/lwdarchiv/public/2017/hn1/de/png/20170415_hn1_de_c.png', u'https://www.slf.ch/fileadmin/user_upload/import/lwdarchiv/public/2017/hn1/de/png/20170416_hn1_de_c.png', u'https://www.slf.ch/fileadmin/user_upload/import/lwdarchiv/public/2017/hn1/de/png/20170417_hn1_de_c.png', u'https://www.slf.ch/fileadmin/user_upload/import/lwdarchiv/public/2017/hn1/de/png/20170418_hn1_de_c.png', u'https://www.slf.ch/fileadmin/user_upload/import/lwdarchiv/public/2017/hn1/de/png/20170419_hn1_de_c.png', u'https://www.slf.ch/fileadmin/user_upload/import/lwdarchiv/public/2017/hn1/de/png/20170420_hn1_de_c.png', u'https://www.slf.ch/fileadmin/user_upload/import/lwdarchiv/public/2017/hn1/de/png/20170421_hn1_de_c.png', u'https://www.slf.ch/fileadmin/user_upload/import/lwdarchiv/public/2017/hn1/de/png/20170422_hn1_de_c.png', u'https://www.slf.ch/fileadmin/user_upload/import/lwdarchiv/public/2017/hn1/de/png/20170423_hn1_de_c.png', u'https://www.slf.ch/fileadmin/user_upload/import/lwdarchiv/public/2017/hn1/de/png/20170424_hn1_de_c.png', u'https://www.slf.ch/fileadmin/user_upload/import/lwdarchiv/public/2017/hn1/de/png/20170425_hn1_de_c.png', u'https://www.slf.ch/fileadmin/user_upload/import/lwdarchiv/public/2017/hn1/de/png/20170426_hn1_de_c.png', u'https://www.slf.ch/fileadmin/user_upload/import/lwdarchiv/public/2017/hn1/de/png/20170427_hn1_de_c.png', u'https://www.slf.ch/fileadmin/user_upload/import/lwdarchiv/public/2017/hn1/de/png/20170428_hn1_de_c.png', u'https://www.slf.ch/fileadmin/user_upload/import/lwdarchiv/public/2017/hn1/de/png/20170429_hn1_de_c.png', u'https://www.slf.ch/fileadmin/user_upload/import/lwdarchiv/public/2017/hn1/de/png/20170430_hn1_de_c.png', u'https://www.slf.ch/fileadmin/user_upload/import/lwdarchiv/public/2017/hn1/de/png/20170501_hn1_de_c.png', u'https://www.slf.ch/fileadmin/user_upload/import/lwdarchiv/public/2017/hn1/de/png/20170502_hn1_de_c.png', u'https://www.slf.ch/fileadmin/user_upload/import/lwdarchiv/public/2017/hn1/de/png/20170503_hn1_de_c.png', u'https://www.slf.ch/fileadmin/user_upload/import/lwdarchiv/public/2017/hn1/de/png/20170504_hn1_de_c.png', u'https://www.slf.ch/fileadmin/user_upload/import/lwdarchiv/public/2017/hn1/de/png/20170505_hn1_de_c.png', u'https://www.slf.ch/fileadmin/user_upload/import/lwdarchiv/public/2017/hn1/de/png/20170506_hn1_de_c.png', u'https://www.slf.ch/fileadmin/user_upload/import/lwdarchiv/public/2017/hn1/de/png/20170507_hn1_de_c.png', u'https://www.slf.ch/fileadmin/user_upload/import/lwdarchiv/public/2017/hn1/de/png/20170508_hn1_de_c.png']\n"
     ]
    }
   ],
   "source": [
    "all_year_list = []\n",
    "for year in range(2002, 2018):\n",
    "    display.clear_output(wait=True)\n",
    "\n",
    "    driver.get(get_url(year))\n",
    "    driver.refresh()\n",
    "    \n",
    "    all_year_list += [get_list_of_color_images(driver)]\n",
    "    print all_year_list[-1]"
   ]
  },
  {
   "cell_type": "code",
   "execution_count": 38,
   "metadata": {
    "collapsed": false
   },
   "outputs": [],
   "source": [
    "# np.save( '../data/slf/one_day_snowfall_links', all_year_list)"
   ]
  },
  {
   "cell_type": "code",
   "execution_count": 59,
   "metadata": {
    "collapsed": false
   },
   "outputs": [],
   "source": [
    "all_year_list = np.load('../data/slf/one_day_snowfall_links.npy')[()]"
   ]
  },
  {
   "cell_type": "code",
   "execution_count": 62,
   "metadata": {
    "collapsed": true
   },
   "outputs": [],
   "source": [
    "import os"
   ]
  },
  {
   "cell_type": "code",
   "execution_count": 65,
   "metadata": {
    "collapsed": false
   },
   "outputs": [],
   "source": [
    "for year in range(2002, 2018):\n",
    "    os.mkdir('../data/slf/one_day_snowfall/%d/' % year)"
   ]
  },
  {
   "cell_type": "code",
   "execution_count": 67,
   "metadata": {
    "collapsed": false
   },
   "outputs": [
    {
     "data": {
      "text/plain": [
       "('test.png', <httplib.HTTPMessage instance at 0x7f9360be1098>)"
      ]
     },
     "execution_count": 67,
     "metadata": {},
     "output_type": "execute_result"
    }
   ],
   "source": [
    "import urllib\n",
    "\n",
    "testfile = urllib.URLopener()\n",
    "testfile.retrieve(all_year_list[0][0], \"test.png\")"
   ]
  },
  {
   "cell_type": "code",
   "execution_count": 71,
   "metadata": {
    "collapsed": false
   },
   "outputs": [
    {
     "name": "stdout",
     "output_type": "stream",
     "text": [
      "20161101.png\n",
      "20161102.png\n",
      "20161103.png\n",
      "20161104.png\n",
      "20161105.png\n",
      "20161106.png\n",
      "20161107.png\n",
      "20161108.png\n",
      "20161109.png\n",
      "20161110.png\n",
      "20161111.png\n",
      "20161112.png\n",
      "20161113.png\n",
      "20161114.png\n",
      "20161115.png\n",
      "20161116.png\n",
      "20161117.png\n",
      "20161118.png\n",
      "20161119.png\n",
      "20161120.png\n",
      "20161121.png\n",
      "20161122.png\n",
      "20161123.png\n",
      "20161124.png\n",
      "20161125.png\n",
      "20161126.png\n",
      "20161127.png\n",
      "20161128.png\n",
      "20161129.png\n",
      "20161130.png\n",
      "20161201.png\n",
      "20161202.png\n",
      "20161203.png\n",
      "20161204.png\n",
      "20161205.png\n",
      "20161206.png\n",
      "20161207.png\n",
      "20161208.png\n",
      "20161209.png\n",
      "20161210.png\n",
      "20161211.png\n",
      "20161212.png\n",
      "20161213.png\n",
      "20161214.png\n",
      "20161215.png\n",
      "20161216.png\n",
      "20161217.png\n",
      "20161218.png\n",
      "20161219.png\n",
      "20161220.png\n",
      "20161221.png\n",
      "20161222.png\n",
      "20161223.png\n",
      "20161224.png\n",
      "20161225.png\n",
      "20161226.png\n",
      "20161227.png\n",
      "20161228.png\n",
      "20161229.png\n",
      "20161230.png\n",
      "20161231.png\n",
      "20170101.png\n",
      "20170102.png\n",
      "20170103.png\n",
      "20170104.png\n",
      "20170105.png\n",
      "20170106.png\n",
      "20170107.png\n",
      "20170108.png\n",
      "20170109.png\n",
      "20170110.png\n",
      "20170111.png\n",
      "20170112.png\n",
      "20170113.png\n",
      "20170114.png\n",
      "20170115.png\n",
      "20170116.png\n",
      "20170117.png\n",
      "20170118.png\n",
      "20170119.png\n",
      "20170120.png\n",
      "20170121.png\n",
      "20170122.png\n",
      "20170123.png\n",
      "20170124.png\n",
      "20170125.png\n",
      "20170126.png\n",
      "20170127.png\n",
      "20170128.png\n",
      "20170129.png\n",
      "20170130.png\n",
      "20170131.png\n",
      "20170201.png\n",
      "20170202.png\n",
      "20170203.png\n",
      "20170204.png\n",
      "20170205.png\n",
      "20170206.png\n",
      "20170207.png\n",
      "20170208.png\n",
      "20170209.png\n",
      "20170210.png\n",
      "20170211.png\n",
      "20170212.png\n",
      "20170213.png\n",
      "20170214.png\n",
      "20170215.png\n",
      "20170216.png\n",
      "20170217.png\n",
      "20170218.png\n",
      "20170219.png\n",
      "20170220.png\n",
      "20170221.png\n",
      "20170222.png\n",
      "20170223.png\n",
      "20170224.png\n",
      "20170225.png\n",
      "20170226.png\n",
      "20170227.png\n",
      "20170228.png\n",
      "20170301.png\n",
      "20170302.png\n",
      "20170303.png\n",
      "20170304.png\n",
      "20170305.png\n",
      "20170306.png\n",
      "20170307.png\n",
      "20170308.png\n",
      "20170309.png\n",
      "20170310.png\n",
      "20170311.png\n",
      "20170312.png\n",
      "20170313.png\n",
      "20170314.png\n",
      "20170315.png\n",
      "20170316.png\n",
      "20170317.png\n",
      "20170318.png\n",
      "20170319.png\n",
      "20170320.png\n",
      "20170321.png\n",
      "20170322.png\n",
      "20170323.png\n",
      "20170324.png\n",
      "20170325.png\n",
      "20170326.png\n",
      "20170327.png\n",
      "20170328.png\n",
      "20170329.png\n",
      "20170330.png\n",
      "20170331.png\n",
      "20170401.png\n",
      "20170402.png\n",
      "20170403.png\n",
      "20170404.png\n",
      "20170405.png\n",
      "20170406.png\n",
      "20170407.png\n",
      "20170408.png\n",
      "20170409.png\n",
      "20170410.png\n",
      "20170411.png\n",
      "20170412.png\n",
      "20170413.png\n",
      "20170414.png\n",
      "20170415.png\n",
      "20170416.png\n",
      "20170417.png\n",
      "20170418.png\n",
      "20170419.png\n",
      "20170420.png\n",
      "20170421.png\n",
      "20170422.png\n",
      "20170423.png\n",
      "20170424.png\n",
      "20170425.png\n",
      "20170426.png\n",
      "20170427.png\n",
      "20170428.png\n",
      "20170429.png\n",
      "20170430.png\n",
      "20170501.png\n",
      "20170502.png\n",
      "20170503.png\n",
      "20170504.png\n",
      "20170505.png\n",
      "20170506.png\n",
      "20170507.png\n",
      "20170508.png\n"
     ]
    }
   ],
   "source": [
    "for i, year in enumerate(range(2002, 2018)):\n",
    "    display.clear_output(wait=True)\n",
    "    for url in all_year_list[i]:\n",
    "        if year >= 2014:\n",
    "            f = 'png'\n",
    "        else:\n",
    "            f = 'gif'\n",
    "        filename = url.split('/')[-1][:8] + '.' + f\n",
    "        \n",
    "        testfile.retrieve(url, '../data/slf/one_day_snowfall/%d/' % year + filename)\n",
    "        print filename"
   ]
  },
  {
   "cell_type": "code",
   "execution_count": null,
   "metadata": {
    "collapsed": true
   },
   "outputs": [],
   "source": []
  }
 ],
 "metadata": {
  "anaconda-cloud": {},
  "hide_input": false,
  "kernelspec": {
   "display_name": "Python [default]",
   "language": "python",
   "name": "python2"
  },
  "language_info": {
   "codemirror_mode": {
    "name": "ipython",
    "version": 2
   },
   "file_extension": ".py",
   "mimetype": "text/x-python",
   "name": "python",
   "nbconvert_exporter": "python",
   "pygments_lexer": "ipython2",
   "version": "2.7.12"
  },
  "latex_envs": {
   "bibliofile": "biblio.bib",
   "cite_by": "apalike",
   "current_citInitial": 1,
   "eqLabelWithNumbers": true,
   "eqNumInitial": 0
  }
 },
 "nbformat": 4,
 "nbformat_minor": 2
}
